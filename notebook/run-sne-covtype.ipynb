{
 "cells": [
  {
   "cell_type": "markdown",
   "metadata": {},
   "source": [
    "## Import Libraries"
   ]
  },
  {
   "cell_type": "code",
   "execution_count": 1,
   "metadata": {},
   "outputs": [],
   "source": [
    "import sys\n",
    "\n",
    "sys.path.insert(1, '../')\n",
    "\n",
    "import numpy as np\n",
    "import pandas as pd\n",
    "import scipy\n",
    "import sklearn\n",
    "\n",
    "from utils.arg_parser import *\n",
    "from utils.import_data import *\n",
    "\n",
    "\n",
    "from sne_example.method_sgn2 import *\n",
    "from sne_example.method_gn import *\n",
    "from sne_example.method_sgn import *\n",
    "from sne_example.method_nspider import *\n",
    "from sne_example.method_scgd import *\n",
    "\n",
    "\n",
    "from matplotlib import pyplot as plt\n",
    "import datetime, os, sys\n",
    "import random\n",
    "\n",
    "from sklearn.utils import resample"
   ]
  },
  {
   "cell_type": "markdown",
   "metadata": {},
   "source": [
    "## Parse Arguments"
   ]
  },
  {
   "cell_type": "code",
   "execution_count": 2,
   "metadata": {},
   "outputs": [],
   "source": [
    "# input arguments\n",
    "sys.argv = ['sne_real_data.py', \n",
    "            '--obj', 'l2',      # objective type\n",
    "            '-ne', '100',          # max num epochs\n",
    "            '--seed', '42',        # seed\n",
    "            '--alg', '1', '2','3', # algorithms to run \n",
    "            '--data', 'covtype',   # dataset name\n",
    "            '--enable-log'         # save log data\n",
    "           ]\n",
    "\n",
    "# parse arguments\n",
    "prog_option = argParser()\n",
    "\n",
    "# extract options\n",
    "is_plot         = prog_option[\"PlotOption\"]\n",
    "is_log          = prog_option[\"LogEnable\"]\n",
    "max_num_epochs  = prog_option[\"MaxNumEpoch\"]\n",
    "obj_type        = prog_option[\"Objective\"]\n",
    "seed_           = prog_option[\"Seed\"]\n",
    "dataset         = prog_option['Dataset']\n",
    "\n",
    "alg_option = prog_option[\"Alg\"]"
   ]
  },
  {
   "cell_type": "markdown",
   "metadata": {},
   "source": [
    "## Input Preprocessing"
   ]
  },
  {
   "cell_type": "code",
   "execution_count": 3,
   "metadata": {},
   "outputs": [],
   "source": [
    "# get data\n",
    "X_data, Y_data = import_data(dataset)\n",
    "\n",
    "# use sparse matrix for efficient computation\n",
    "if not scipy.sparse.isspmatrix_csr(X_data):\n",
    "    X_data = scipy.sparse.csr_matrix(X_data)\n",
    "\n",
    "# get dimensions\n",
    "n_ = X_data.shape[0]\n",
    "d_ = X_data.shape[-1]\n",
    "\n",
    "# prepare functions and data\n",
    "Non_Linear_Func, Non_Linear_Data = intialize_func(4, X_data, Y_data)\n",
    "\n",
    "if obj_type == 'l2':\n",
    "    Objective_Func = {\n",
    "        'Func': func_val_l2_norm,\n",
    "        'Prox': prox_l2_norm,\n",
    "        'DualFunc': ind_l2_ball,\n",
    "        'DualProx': proj_l2_ball,\n",
    "    }\n",
    "elif obj_type == 'huber':\n",
    "    Objective_Func = {\n",
    "        'Func': func_val_huber,\n",
    "        'Prox': prox_huber,\n",
    "        'Grad': grad_eval_huber,\n",
    "    }"
   ]
  },
  {
   "cell_type": "markdown",
   "metadata": {},
   "source": [
    "## Parameter Initializations"
   ]
  },
  {
   "cell_type": "code",
   "execution_count": 4,
   "metadata": {
    "scrolled": true
   },
   "outputs": [],
   "source": [
    "if obj_type == 'l2':\n",
    "    # sgn\n",
    "    sgn_jac_batch_size = 512\n",
    "    sgn_func_batch_size = 1024\n",
    "\n",
    "    # sgn2\n",
    "    sgn2_jac_batch_size = 128\n",
    "    sgn2_func_batch_size = 256\n",
    "    sgn2_jac_snap_batch_size = int(n_)\n",
    "    sgn2_func_snap_batch_size = int(n_)\n",
    "    sgn2_max_inner = 5000\n",
    "    \n",
    "elif obj_type == 'huber':\n",
    "    # sgn\n",
    "    sgn_jac_batch_size = 512\n",
    "    sgn_func_batch_size = 1024\n",
    "\n",
    "    # sgn2\n",
    "    sgn2_jac_batch_size = 128\n",
    "    sgn2_func_batch_size = 256\n",
    "    sgn2_jac_snap_batch_size = int(n_)\n",
    "    sgn2_func_snap_batch_size = int(n_)\n",
    "    sgn2_max_inner = 5000\n",
    "\n",
    "# Nested-SPIDER\n",
    "nspider_jac_batch_size = 128\n",
    "nspider_func_batch_size = 256\n",
    "nspider_jac_snap_batch_size = int(n_)\n",
    "nspider_func_snap_batch_size = int(n_)\n",
    "nspider_max_inner = 5000\n",
    "nspider_lr = 1.0\n",
    "\n",
    "# SCGD\n",
    "scgd_jac_batch_size = 512\n",
    "scgd_func_batch_size = 1024\n",
    "scgd_lr = 1.0\n",
    "\n",
    "# general problem parameters\n",
    "if obj_type == 'l2':\n",
    "    sub_prob_params = {\n",
    "        'rho': 5.0,\n",
    "        'M_const': 5.0,\n",
    "        'epsilon': 1e-6,\n",
    "        'max_sub_iter': 100,\n",
    "        'RelTolSoln': 1e-6, \n",
    "        'sub_solver': 'adpg',\n",
    "        'n': n_,\n",
    "        'd': d_,\n",
    "    }\n",
    "else:\n",
    "    sub_prob_params = {\n",
    "        'rho': 0.4,\n",
    "        'M_const': 0.4,\n",
    "        'epsilon': 1e-6,\n",
    "        'max_sub_iter': 100,\n",
    "        'RelTolSoln': 1e-6, \n",
    "        'sub_solver': 'adpg',\n",
    "        'n': n_,\n",
    "        'd': d_,\n",
    "    }\n",
    "\n",
    "# gn\n",
    "gn_params = {\n",
    "    'max_epochs':max_num_epochs,\n",
    "}\n",
    "\n",
    "# sgn\n",
    "sgn_params = {\n",
    "    'jac_batch': sgn_jac_batch_size,\n",
    "    'func_batch': sgn_func_batch_size,\n",
    "    'max_epochs':max_num_epochs,\n",
    "}\n",
    "\n",
    "# sgn2\n",
    "sgn2_params = {\n",
    "    'jac_batch': sgn2_jac_batch_size,\n",
    "    'func_batch': sgn2_func_batch_size,\n",
    "    'jac_snap_batch': sgn2_jac_snap_batch_size,\n",
    "    'func_snap_batch': sgn2_func_snap_batch_size,\n",
    "    'max_inner': sgn2_max_inner,\n",
    "    'max_epochs':max_num_epochs,\n",
    "}\n",
    "\n",
    "# nested-spider\n",
    "nspider_params = {\n",
    "    'jac_batch': nspider_jac_batch_size,\n",
    "    'func_batch': nspider_func_batch_size,\n",
    "    'jac_snap_batch': nspider_jac_snap_batch_size,\n",
    "    'func_snap_batch': nspider_func_snap_batch_size,\n",
    "    'max_inner': nspider_max_inner,\n",
    "    'max_epochs':max_num_epochs,\n",
    "    'lr': nspider_lr,\n",
    "    'epsilon': 1e-1,\n",
    "}\n",
    "\n",
    "# scgd\n",
    "scgd_params = {\n",
    "    'jac_batch': scgd_jac_batch_size,\n",
    "    'func_batch': scgd_func_batch_size,\n",
    "    'max_epochs': max_num_epochs,\n",
    "    'lr': scgd_lr,\n",
    "}"
   ]
  },
  {
   "cell_type": "markdown",
   "metadata": {},
   "source": [
    "## Initial Point"
   ]
  },
  {
   "cell_type": "code",
   "execution_count": 5,
   "metadata": {},
   "outputs": [],
   "source": [
    "# set seed\n",
    "np.random.seed(seed_)\n",
    "\n",
    "# generate initial point\n",
    "x0 = np.ones(d_)"
   ]
  },
  {
   "cell_type": "markdown",
   "metadata": {},
   "source": [
    "## Run Algorithms"
   ]
  },
  {
   "cell_type": "code",
   "execution_count": 6,
   "metadata": {},
   "outputs": [],
   "source": [
    "# init history\n",
    "history = []\n",
    "legend_list = []\n",
    "log_dir = []\n",
    "\n",
    "# initialize log directory\n",
    "example_name = 'SNE'\n",
    "dataset = prog_option['Dataset']"
   ]
  },
  {
   "cell_type": "markdown",
   "metadata": {},
   "source": [
    "### GN"
   ]
  },
  {
   "cell_type": "code",
   "execution_count": 7,
   "metadata": {},
   "outputs": [
    {
     "name": "stdout",
     "output_type": "stream",
     "text": [
      "\n",
      "GN Algorithm\n",
      "\n",
      "==========================================================================================\n",
      "    Time     |  # Epochs  |   # Samples   |   Obj. Val.   |  ||G_M(x)||   | Rel. Sol. Ch.\n",
      "------------------------------------------------------------------------------------------\n",
      "  9.54e-01   |    0.0     |   0.000e+00   |   6.211e-02   |   1.569e-02   |      inf     \n",
      "  1.77e+00   |    2.0     |   1.162e+06   |   6.188e-02   |   1.559e-02   |   4.241e-04  \n",
      "  2.87e+00   |    4.0     |   2.324e+06   |   6.165e-02   |   1.549e-02   |   4.214e-04  \n",
      "  3.83e+00   |    6.0     |   3.486e+06   |   6.143e-02   |   1.539e-02   |   4.188e-04  \n",
      "  4.84e+00   |    8.0     |   4.648e+06   |   6.121e-02   |   1.530e-02   |   4.162e-04  \n",
      "  5.78e+00   |    10.0    |   5.810e+06   |   6.100e-02   |   1.521e-02   |   4.136e-04  \n",
      "  6.90e+00   |    12.0    |   6.972e+06   |   6.078e-02   |   1.511e-02   |   4.111e-04  \n",
      "  7.83e+00   |    14.0    |   8.134e+06   |   6.057e-02   |   1.502e-02   |   4.086e-04  \n",
      "  8.76e+00   |    16.0    |   9.296e+06   |   6.036e-02   |   1.493e-02   |   4.061e-04  \n",
      "  9.66e+00   |    18.0    |   1.046e+07   |   6.015e-02   |   1.485e-02   |   4.036e-04  \n",
      "  1.06e+01   |    20.0    |   1.162e+07   |   5.994e-02   |   1.476e-02   |   4.012e-04  \n",
      "  1.14e+01   |    22.0    |   1.278e+07   |   5.974e-02   |   1.467e-02   |   3.989e-04  \n",
      "  1.24e+01   |    24.0    |   1.394e+07   |   5.954e-02   |   1.459e-02   |   3.965e-04  \n",
      "  1.32e+01   |    26.0    |   1.511e+07   |   5.934e-02   |   1.451e-02   |   3.942e-04  \n",
      "  1.41e+01   |    28.0    |   1.627e+07   |   5.914e-02   |   1.442e-02   |   3.919e-04  \n",
      "  1.49e+01   |    30.0    |   1.743e+07   |   5.894e-02   |   1.434e-02   |   3.897e-04  \n",
      "  1.58e+01   |    32.0    |   1.859e+07   |   5.875e-02   |   1.426e-02   |   3.875e-04  \n",
      "  1.67e+01   |    34.0    |   1.975e+07   |   5.856e-02   |   1.418e-02   |   3.853e-04  \n",
      "  1.76e+01   |    36.0    |   2.092e+07   |   5.837e-02   |   1.410e-02   |   3.831e-04  \n",
      "  1.86e+01   |    38.0    |   2.208e+07   |   5.818e-02   |   1.403e-02   |   3.810e-04  \n",
      "  1.95e+01   |    40.0    |   2.324e+07   |   5.799e-02   |   1.395e-02   |   3.789e-04  \n",
      "  2.03e+01   |    42.0    |   2.440e+07   |   5.780e-02   |   1.387e-02   |   3.768e-04  \n",
      "  2.12e+01   |    44.0    |   2.556e+07   |   5.762e-02   |   1.380e-02   |   3.747e-04  \n",
      "  2.20e+01   |    46.0    |   2.673e+07   |   5.744e-02   |   1.373e-02   |   3.727e-04  \n",
      "  2.28e+01   |    48.0    |   2.789e+07   |   5.726e-02   |   1.365e-02   |   3.707e-04  \n",
      "  2.37e+01   |    50.0    |   2.905e+07   |   5.708e-02   |   1.358e-02   |   3.687e-04  \n",
      "  2.45e+01   |    52.0    |   3.021e+07   |   5.690e-02   |   1.351e-02   |   3.667e-04  \n",
      "  2.54e+01   |    54.0    |   3.137e+07   |   5.673e-02   |   1.344e-02   |   3.648e-04  \n",
      "  2.63e+01   |    56.0    |   3.254e+07   |   5.655e-02   |   1.337e-02   |   3.629e-04  \n",
      "  2.71e+01   |    58.0    |   3.370e+07   |   5.638e-02   |   1.330e-02   |   3.610e-04  \n",
      "  2.80e+01   |    60.0    |   3.486e+07   |   5.621e-02   |   1.324e-02   |   3.591e-04  \n",
      "  2.89e+01   |    62.0    |   3.602e+07   |   5.604e-02   |   1.317e-02   |   3.573e-04  \n",
      "  2.97e+01   |    64.0    |   3.718e+07   |   5.587e-02   |   1.310e-02   |   3.554e-04  \n",
      "  3.06e+01   |    66.0    |   3.835e+07   |   5.571e-02   |   1.304e-02   |   3.536e-04  \n",
      "  3.14e+01   |    68.0    |   3.951e+07   |   5.554e-02   |   1.297e-02   |   3.519e-04  \n",
      "  3.24e+01   |    70.0    |   4.067e+07   |   5.538e-02   |   1.291e-02   |   3.501e-04  \n",
      "  3.33e+01   |    72.0    |   4.183e+07   |   5.521e-02   |   1.285e-02   |   3.483e-04  \n",
      "  3.41e+01   |    74.0    |   4.299e+07   |   5.505e-02   |   1.278e-02   |   3.466e-04  \n",
      "  3.50e+01   |    76.0    |   4.416e+07   |   5.489e-02   |   1.272e-02   |   3.449e-04  \n",
      "  3.58e+01   |    78.0    |   4.532e+07   |   5.474e-02   |   1.266e-02   |   3.432e-04  \n",
      "  3.66e+01   |    80.0    |   4.648e+07   |   5.458e-02   |   1.260e-02   |   3.416e-04  \n",
      "  3.74e+01   |    82.0    |   4.764e+07   |   5.442e-02   |   1.254e-02   |   3.399e-04  \n",
      "  3.82e+01   |    84.0    |   4.881e+07   |   5.427e-02   |   1.248e-02   |   3.383e-04  \n",
      "  3.92e+01   |    86.0    |   4.997e+07   |   5.411e-02   |   1.242e-02   |   3.367e-04  \n",
      "  4.01e+01   |    88.0    |   5.113e+07   |   5.396e-02   |   1.237e-02   |   3.351e-04  \n",
      "  4.09e+01   |    90.0    |   5.229e+07   |   5.381e-02   |   1.231e-02   |   3.335e-04  \n",
      "  4.18e+01   |    92.0    |   5.345e+07   |   5.366e-02   |   1.225e-02   |   3.319e-04  \n",
      "  4.27e+01   |    94.0    |   5.462e+07   |   5.351e-02   |   1.220e-02   |   3.304e-04  \n",
      "  4.36e+01   |    96.0    |   5.578e+07   |   5.337e-02   |   1.214e-02   |   3.289e-04  \n",
      "  4.45e+01   |    98.0    |   5.694e+07   |   5.322e-02   |   1.209e-02   |   3.273e-04  \n",
      "  4.54e+01   |   100.0    |   5.810e+07   |   5.308e-02   |   1.203e-02   |   3.259e-04  \n",
      "==========================================================================================\n",
      "Saved to log_file/SNE/covtype/l2/GN/gn_rho_5.0_M_5.0_ne_100\n"
     ]
    }
   ],
   "source": [
    "# GN\n",
    "hist = sne_gn(x0, Objective_Func, Non_Linear_Func, Non_Linear_Data, sub_prob_params, gn_params)\n",
    "log_dir = os.path.join('log_file',example_name,dataset,obj_type,'GN', \n",
    "                \"gn_rho_\" + str(sub_prob_params['rho']) + \"_M_\" +str(sub_prob_params['M_const'])\n",
    "                    + \"_ne_{:d}\".format(max_num_epochs))\n",
    "if is_log:\n",
    "    print('Saved to',log_dir)\n",
    "    save_history(log_dir, hist)\n",
    "history.append(hist)\n",
    "legend_list.append('GN')"
   ]
  },
  {
   "cell_type": "markdown",
   "metadata": {},
   "source": [
    "### SGN"
   ]
  },
  {
   "cell_type": "code",
   "execution_count": 8,
   "metadata": {},
   "outputs": [
    {
     "name": "stdout",
     "output_type": "stream",
     "text": [
      "\n",
      "SGN Algorithm\n",
      "\n",
      "==========================================================================================\n",
      "    Time     |  # Epochs  |   # Samples   |   Obj. Val.   |  ||G_M(x)||   | Rel. Sol. Ch.\n",
      "------------------------------------------------------------------------------------------\n",
      "  8.48e-01   |    0.0     |   0.000e+00   |   6.211e-02   |   1.569e-02   |      inf     \n",
      "  1.58e+01   |    2.0     |   1.163e+06   |   2.253e-02   |   3.348e-03   |   9.180e-05  \n",
      "  3.10e+01   |    4.0     |   2.326e+06   |   1.546e-02   |   1.994e-03   |   5.276e-05  \n",
      "  4.61e+01   |    6.0     |   3.488e+06   |   1.213e-02   |   1.431e-03   |   3.753e-05  \n",
      "  6.05e+01   |    8.0     |   4.651e+06   |   1.013e-02   |   1.116e-03   |   2.989e-05  \n",
      "  7.50e+01   |    10.0    |   5.814e+06   |   8.780e-03   |   9.154e-04   |   2.400e-05  \n",
      "  9.02e+01   |    12.0    |   6.977e+06   |   7.795e-03   |   7.752e-04   |   1.805e-05  \n",
      "  1.05e+02   |    14.0    |   8.139e+06   |   7.042e-03   |   6.720e-04   |   1.592e-05  \n",
      "  1.20e+02   |    16.0    |   9.302e+06   |   6.445e-03   |   5.927e-04   |   1.503e-05  \n",
      "  1.35e+02   |    18.0    |   1.046e+07   |   5.959e-03   |   5.301e-04   |   1.453e-05  \n",
      "  1.51e+02   |    20.0    |   1.163e+07   |   5.554e-03   |   4.793e-04   |   1.371e-05  \n",
      "  1.67e+02   |    22.0    |   1.279e+07   |   5.209e-03   |   4.370e-04   |   1.052e-05  \n",
      "  1.82e+02   |    24.0    |   1.395e+07   |   4.914e-03   |   4.016e-04   |   9.172e-06  \n",
      "  1.97e+02   |    26.0    |   1.512e+07   |   4.656e-03   |   3.714e-04   |   8.836e-06  \n",
      "  2.13e+02   |    28.0    |   1.628e+07   |   4.430e-03   |   3.454e-04   |   8.141e-06  \n",
      "  2.27e+02   |    30.0    |   1.744e+07   |   4.230e-03   |   3.228e-04   |   8.279e-06  \n",
      "  2.41e+02   |    32.0    |   1.860e+07   |   4.050e-03   |   3.028e-04   |   7.618e-06  \n",
      "  2.54e+02   |    34.0    |   1.977e+07   |   3.888e-03   |   2.851e-04   |   7.356e-06  \n",
      "  2.67e+02   |    36.0    |   2.093e+07   |   3.742e-03   |   2.694e-04   |   6.886e-06  \n",
      "  2.82e+02   |    38.0    |   2.209e+07   |   3.608e-03   |   2.552e-04   |   5.688e-06  \n",
      "  2.96e+02   |    40.0    |   2.326e+07   |   3.486e-03   |   2.425e-04   |   6.905e-06  \n",
      "  3.11e+02   |    42.0    |   2.442e+07   |   3.374e-03   |   2.310e-04   |   5.876e-06  \n",
      "  3.25e+02   |    44.0    |   2.558e+07   |   3.270e-03   |   2.204e-04   |   4.967e-06  \n",
      "  3.41e+02   |    46.0    |   2.674e+07   |   3.174e-03   |   2.108e-04   |   4.505e-06  \n",
      "  3.54e+02   |    48.0    |   2.791e+07   |   3.085e-03   |   2.019e-04   |   5.146e-06  \n",
      "  3.70e+02   |    50.0    |   2.907e+07   |   3.001e-03   |   1.938e-04   |   6.760e-06  \n",
      "  3.84e+02   |    52.0    |   3.023e+07   |   2.924e-03   |   1.863e-04   |   4.457e-06  \n",
      "  3.98e+02   |    54.0    |   3.139e+07   |   2.851e-03   |   1.793e-04   |   3.767e-06  \n",
      "  4.12e+02   |    56.0    |   3.256e+07   |   2.782e-03   |   1.728e-04   |   4.646e-06  \n",
      "  4.27e+02   |    58.0    |   3.372e+07   |   2.718e-03   |   1.668e-04   |   4.410e-06  \n",
      "  4.40e+02   |    60.0    |   3.488e+07   |   2.658e-03   |   1.612e-04   |   4.243e-06  \n",
      "  4.51e+02   |    62.0    |   3.605e+07   |   2.600e-03   |   1.559e-04   |   3.578e-06  \n",
      "  4.63e+02   |    64.0    |   3.721e+07   |   2.546e-03   |   1.509e-04   |   3.237e-06  \n",
      "  4.75e+02   |    66.0    |   3.837e+07   |   2.494e-03   |   1.463e-04   |   3.683e-06  \n",
      "  4.87e+02   |    68.0    |   3.953e+07   |   2.445e-03   |   1.419e-04   |   3.735e-06  \n",
      "  4.98e+02   |    70.0    |   4.070e+07   |   2.398e-03   |   1.378e-04   |   3.937e-06  \n",
      "  5.10e+02   |    72.0    |   4.186e+07   |   2.353e-03   |   1.339e-04   |   3.414e-06  \n",
      "  5.23e+02   |    74.0    |   4.302e+07   |   2.311e-03   |   1.301e-04   |   2.620e-06  \n",
      "  5.36e+02   |    76.0    |   4.418e+07   |   2.270e-03   |   1.266e-04   |   3.099e-06  \n",
      "  5.48e+02   |    78.0    |   4.535e+07   |   2.231e-03   |   1.233e-04   |   3.354e-06  \n",
      "  5.60e+02   |    80.1    |   4.651e+07   |   2.194e-03   |   1.202e-04   |   2.596e-06  \n",
      "  5.72e+02   |    82.1    |   4.767e+07   |   2.158e-03   |   1.171e-04   |   3.163e-06  \n",
      "  5.84e+02   |    84.1    |   4.884e+07   |   2.124e-03   |   1.143e-04   |   2.563e-06  \n",
      "  5.96e+02   |    86.1    |   5.000e+07   |   2.091e-03   |   1.116e-04   |   2.866e-06  \n",
      "  6.08e+02   |    88.1    |   5.116e+07   |   2.060e-03   |   1.090e-04   |   2.819e-06  \n",
      "  6.20e+02   |    90.1    |   5.232e+07   |   2.029e-03   |   1.065e-04   |   2.238e-06  \n",
      "  6.32e+02   |    92.1    |   5.349e+07   |   2.000e-03   |   1.041e-04   |   2.994e-06  \n",
      "  6.44e+02   |    94.1    |   5.465e+07   |   1.972e-03   |   9.732e-05   |   3.100e-06  \n",
      "  6.56e+02   |    96.1    |   5.581e+07   |   1.945e-03   |   9.965e-05   |   2.000e-06  \n",
      "  6.68e+02   |    98.1    |   5.697e+07   |   1.919e-03   |   9.756e-05   |   2.727e-06  \n",
      "  6.80e+02   |   100.0    |   5.810e+07   |   1.894e-03   |   9.562e-05   |   2.138e-06  \n",
      "==========================================================================================\n",
      "Saved to log_file/SNE/covtype/l2/SGN/sgn_rho_5.0_M_5.0_b1_512_b2_1024_ne_100\n"
     ]
    }
   ],
   "source": [
    "# SGN\n",
    "hist = sne_sgn(x0, Objective_Func, Non_Linear_Func, Non_Linear_Data, sub_prob_params, sgn_params)\n",
    "log_dir = os.path.join('log_file',example_name,dataset,obj_type,'SGN', \n",
    "                \"sgn_rho_\" + str(sub_prob_params['rho']) + \"_M_\" +str(sub_prob_params['M_const'])\n",
    "                + \"_b1_\" + str(sgn_params['jac_batch']) + \"_b2_\" + str(sgn_params['func_batch'])\n",
    "                    + \"_ne_{:d}\".format(max_num_epochs))\n",
    "if is_log:\n",
    "    print('Saved to',log_dir)\n",
    "    save_history(log_dir, hist)\n",
    "history.append(hist)\n",
    "legend_list.append('SGN')"
   ]
  },
  {
   "cell_type": "markdown",
   "metadata": {},
   "source": [
    "### SGN2"
   ]
  },
  {
   "cell_type": "code",
   "execution_count": 9,
   "metadata": {
    "scrolled": false
   },
   "outputs": [
    {
     "name": "stdout",
     "output_type": "stream",
     "text": [
      "\n",
      "SGN2 Algorithm\n",
      "\n",
      "==========================================================================================\n",
      "    Time     |  # Epochs  |   # Samples   |   Obj. Val.   |  ||G_M(x)||   | Rel. Sol. Ch.\n",
      "------------------------------------------------------------------------------------------\n",
      "  7.49e-01   |    0.0     |   0.000e+00   |   6.211e-02   |   1.569e-02   |      inf     \n",
      "  1.49e+00   |    4.0     |   2.324e+06   |   6.188e-02   |   1.559e-02   |   4.242e-04  \n",
      "  1.55e+01   |    6.0     |   3.487e+06   |   1.531e-02   |   1.968e-03   |   5.206e-05  \n",
      "  2.92e+01   |    8.0     |   4.650e+06   |   1.007e-02   |   1.107e-03   |   2.787e-05  \n",
      "  4.36e+01   |    10.0    |   5.812e+06   |   7.763e-03   |   7.706e-04   |   1.906e-05  \n",
      "  4.89e+01   |    14.6    |   8.488e+06   |   7.290e-03   |   7.055e-04   |   1.732e-05  \n",
      "  6.27e+01   |    16.6    |   9.651e+06   |   6.125e-03   |   5.512e-04   |   1.338e-05  \n",
      "  7.73e+01   |    18.6    |   1.081e+07   |   5.330e-03   |   4.516e-04   |   1.088e-05  \n",
      "  9.16e+01   |    20.6    |   1.198e+07   |   4.750e-03   |   3.821e-04   |   9.130e-06  \n",
      "  9.71e+01   |    25.2    |   1.465e+07   |   4.603e-03   |   3.650e-04   |   8.692e-06  \n",
      "  1.11e+02   |    27.2    |   1.581e+07   |   4.188e-03   |   3.180e-04   |   7.529e-06  \n",
      "  1.26e+02   |    29.2    |   1.698e+07   |   3.856e-03   |   2.816e-04   |   6.629e-06  \n",
      "  1.39e+02   |    31.2    |   1.814e+07   |   3.582e-03   |   2.524e-04   |   5.912e-06  \n",
      "  1.45e+02   |    35.8    |   2.082e+07   |   3.508e-03   |   2.447e-04   |   5.720e-06  \n",
      "  1.59e+02   |    37.8    |   2.198e+07   |   3.290e-03   |   2.223e-04   |   5.176e-06  \n",
      "  1.72e+02   |    39.8    |   2.314e+07   |   3.102e-03   |   2.036e-04   |   4.719e-06  \n",
      "  1.85e+02   |    41.8    |   2.430e+07   |   2.940e-03   |   1.877e-04   |   4.336e-06  \n",
      "  1.91e+02   |    46.4    |   2.698e+07   |   2.894e-03   |   1.834e-04   |   4.228e-06  \n",
      "  2.04e+02   |    48.4    |   2.814e+07   |   2.757e-03   |   1.628e-04   |   3.740e-06  \n",
      "  2.17e+02   |    50.4    |   2.931e+07   |   2.636e-03   |   1.591e-04   |   3.644e-06  \n",
      "  2.31e+02   |    52.4    |   3.047e+07   |   2.526e-03   |   1.491e-04   |   3.405e-06  \n",
      "  2.36e+02   |    57.0    |   3.314e+07   |   2.495e-03   |   1.463e-04   |   3.338e-06  \n",
      "  2.50e+02   |    59.0    |   3.431e+07   |   2.400e-03   |   1.378e-04   |   3.136e-06  \n",
      "  2.63e+02   |    61.0    |   3.547e+07   |   2.313e-03   |   1.303e-04   |   2.956e-06  \n",
      "  2.77e+02   |    63.0    |   3.663e+07   |   2.233e-03   |   1.234e-04   |   2.794e-06  \n",
      "  2.82e+02   |    67.7    |   3.931e+07   |   2.211e-03   |   1.215e-04   |   2.748e-06  \n",
      "  2.96e+02   |    69.7    |   4.047e+07   |   2.140e-03   |   1.155e-04   |   2.608e-06  \n",
      "  3.11e+02   |    71.7    |   4.163e+07   |   2.074e-03   |   1.101e-04   |   2.480e-06  \n",
      "  3.25e+02   |    73.7    |   4.280e+07   |   2.014e-03   |   1.052e-04   |   2.363e-06  \n",
      "  3.30e+02   |    78.3    |   4.547e+07   |   1.996e-03   |   1.038e-04   |   2.329e-06  \n",
      "  3.44e+02   |    80.3    |   4.664e+07   |   1.942e-03   |   9.942e-05   |   2.228e-06  \n",
      "  3.57e+02   |    82.3    |   4.780e+07   |   1.891e-03   |   9.536e-05   |   2.132e-06  \n",
      "  3.71e+02   |    84.3    |   4.896e+07   |   1.843e-03   |   9.161e-05   |   2.045e-06  \n",
      "  3.76e+02   |    88.9    |   5.164e+07   |   1.829e-03   |   9.053e-05   |   2.019e-06  \n",
      "  3.90e+02   |    90.9    |   5.280e+07   |   1.785e-03   |   8.713e-05   |   1.940e-06  \n",
      "  4.03e+02   |    92.9    |   5.396e+07   |   1.743e-03   |   8.397e-05   |   1.866e-06  \n",
      "  4.16e+02   |    94.9    |   5.512e+07   |   1.704e-03   |   8.103e-05   |   1.798e-06  \n",
      "  4.22e+02   |    99.5    |   5.780e+07   |   1.693e-03   |   8.018e-05   |   1.778e-06  \n",
      "  4.25e+02   |   100.0    |   5.810e+07   |   1.683e-03   |   7.947e-05   |   1.762e-06  \n",
      "==========================================================================================\n",
      "Saved to log_file/SNE/covtype/l2/SGN2/sgn2_rho_5.0_M_5.0_b1_128_b2_256_inner_5000_ne_100\n"
     ]
    }
   ],
   "source": [
    "# SGN2\n",
    "hist = sne_sgn2(x0, Objective_Func, Non_Linear_Func, Non_Linear_Data, sub_prob_params, sgn2_params)\n",
    "log_dir = os.path.join('log_file',example_name,dataset,obj_type,'SGN2', \n",
    "                \"sgn2_rho_\" + str(sub_prob_params['rho']) + \"_M_\" +str(sub_prob_params['M_const'])\n",
    "                    + \"_b1_\" + str(sgn2_params['jac_batch']) + \"_b2_\" + str(sgn2_params['func_batch']) \n",
    "                    + \"_inner_\" + str(sgn2_params['max_inner'])+ \"_ne_{:d}\".format(max_num_epochs))\n",
    "if is_log:\n",
    "    print('Saved to',log_dir)\n",
    "    save_history(log_dir, hist)\n",
    "history.append(hist)\n",
    "legend_list.append('SGN2')"
   ]
  },
  {
   "cell_type": "markdown",
   "metadata": {},
   "source": [
    "### N-SPIDER"
   ]
  },
  {
   "cell_type": "code",
   "execution_count": 10,
   "metadata": {
    "scrolled": false
   },
   "outputs": [],
   "source": [
    "# N-SPIDER\n",
    "if obj_type == 'huber':\n",
    "    hist = sne_nspider(x0, Objective_Func, Non_Linear_Func, Non_Linear_Data, sub_prob_params, nspider_params)\n",
    "    log_dir = os.path.join('log_file',example_name,dataset,obj_type,'N-SPIDER', \n",
    "                    \"nspider_\" + \"lr_\" + str(nspider_lr)\n",
    "                        + \"_b1_\" + str(nspider_params['jac_batch']) + \"_b2_\" + str(nspider_params['func_batch']) \n",
    "                        + \"_inner_\" + str(nspider_params['max_inner'])+ \"_ne_{:d}\".format(max_num_epochs))\n",
    "    if is_log:\n",
    "        print('Saved to',log_dir)\n",
    "        save_history(log_dir, hist)\n",
    "    history.append(hist)\n",
    "    legend_list.append('N-SPIDER')"
   ]
  },
  {
   "cell_type": "markdown",
   "metadata": {},
   "source": [
    "### SCGD"
   ]
  },
  {
   "cell_type": "code",
   "execution_count": 11,
   "metadata": {},
   "outputs": [],
   "source": [
    "# SCGD\n",
    "if obj_type == 'huber':\n",
    "    hist = sne_scgd(x0, Objective_Func, Non_Linear_Func, Non_Linear_Data, sub_prob_params, scgd_params)\n",
    "    log_dir = os.path.join('log_file',example_name,dataset,obj_type,'SCGD', \n",
    "                    \"scgd_\" + \"lr_\" + str(nspider_lr)\n",
    "                    + \"_b1_\" + str(sgn_params['jac_batch']) + \"_b2_\" + str(sgn_params['func_batch'])\n",
    "                        + \"_ne_{:d}\".format(max_num_epochs))\n",
    "    if is_log:\n",
    "        print('Saved to',log_dir)\n",
    "        save_history(log_dir, hist)\n",
    "    history.append(hist)\n",
    "    legend_list.append('SCGD')"
   ]
  },
  {
   "cell_type": "markdown",
   "metadata": {},
   "source": [
    "## Plot Results"
   ]
  },
  {
   "cell_type": "code",
   "execution_count": 12,
   "metadata": {},
   "outputs": [
    {
     "data": {
      "image/png": "[encoded data removed]",
      "text/plain": [
       "<Figure size 432x288 with 1 Axes>"
      ]
     },
     "metadata": {
      "needs_background": "light"
     },
     "output_type": "display_data"
    }
   ],
   "source": [
    "color = ['r','b','g']\n",
    "color.extend(['C' + str(i) for i in range(10)])\n",
    "\n",
    "fig1 = plt.figure()\n",
    "# markfreq = 2\n",
    "color_cnt = 0\n",
    "for h in history:\n",
    "    plt.semilogy(   np.array(h['Epochs']) ,\n",
    "        np.array(h['Obj']) ,\n",
    "        linestyle = '--',\n",
    "        color = color[color_cnt],\n",
    "                )\n",
    "    color_cnt += 1\n",
    "\n",
    "fig1.suptitle( 'Composition Example' )\n",
    "plt.xlabel( \"Number of Epochs\" )\n",
    "plt.ylabel( \"Objective Value\" )\n",
    "plt.legend(legend_list)\n",
    "plt.show()"
   ]
  }
 ],
 "metadata": {
  "kernelspec": {
   "display_name": "Python 3",
   "language": "python",
   "name": "python3"
  },
  "language_info": {
   "codemirror_mode": {
    "name": "ipython",
    "version": 3
   },
   "file_extension": ".py",
   "mimetype": "text/x-python",
   "name": "python",
   "nbconvert_exporter": "python",
   "pygments_lexer": "ipython3",
   "version": "3.6.10"
  }
 },
 "nbformat": 4,
 "nbformat_minor": 4
}
