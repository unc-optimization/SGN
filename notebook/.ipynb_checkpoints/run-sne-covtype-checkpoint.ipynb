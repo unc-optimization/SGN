{
 "cells": [
  {
   "cell_type": "markdown",
   "metadata": {},
   "source": [
    "# Import Libraries"
   ]
  },
  {
   "cell_type": "code",
   "execution_count": 1,
   "metadata": {},
   "outputs": [],
   "source": [
    "import sys\n",
    "\n",
    "sys.path.insert(1, '../')\n",
    "\n",
    "import numpy as np\n",
    "import pandas as pd\n",
    "import scipy\n",
    "import sklearn\n",
    "\n",
    "from utils.arg_parser import *\n",
    "from utils.import_data import *\n",
    "\n",
    "\n",
    "from sne_example.method_sgn2 import *\n",
    "from sne_example.method_gn import *\n",
    "from sne_example.method_sgn import *\n",
    "from sne_example.method_nspider import *\n",
    "from sne_example.method_scgd import *\n",
    "\n",
    "\n",
    "from matplotlib import pyplot as plt\n",
    "import datetime, os, sys\n",
    "import random\n",
    "\n",
    "from sklearn.utils import resample"
   ]
  },
  {
   "cell_type": "code",
   "execution_count": 2,
   "metadata": {},
   "outputs": [],
   "source": [
    "# input arguments\n",
    "sys.argv = ['sne_real_data.py', \n",
    "            '--obj', 'l2',      # objective type\n",
    "            '-ne', '100',          # max num epochs\n",
    "            '--seed', '42',        # seed\n",
    "            '--alg', '1', '2','3', # algorithms to run \n",
    "            '--data', 'covtype',   # dataset name\n",
    "            '--enable-log'         # save log data\n",
    "           ]\n",
    "\n",
    "# parse arguments\n",
    "prog_option = argParser()\n",
    "\n",
    "# extract options\n",
    "is_plot         = prog_option[\"PlotOption\"]\n",
    "is_log          = prog_option[\"LogEnable\"]\n",
    "max_num_epochs  = prog_option[\"MaxNumEpoch\"]\n",
    "obj_type        = prog_option[\"Objective\"]\n",
    "seed_           = prog_option[\"Seed\"]\n",
    "dataset         = prog_option['Dataset']\n",
    "\n",
    "alg_option = prog_option[\"Alg\"]"
   ]
  },
  {
   "cell_type": "markdown",
   "metadata": {},
   "source": [
    "## Input Preprocessing"
   ]
  },
  {
   "cell_type": "code",
   "execution_count": 3,
   "metadata": {},
   "outputs": [],
   "source": [
    "# get data\n",
    "X_data, Y_data = import_data(dataset)\n",
    "\n",
    "# use sparse matrix for efficient computation\n",
    "if not scipy.sparse.isspmatrix_csr(X_data):\n",
    "    X_data = scipy.sparse.csr_matrix(X_data)\n",
    "\n",
    "# get dimensions\n",
    "n_ = X_data.shape[0]\n",
    "d_ = X_data.shape[-1]\n",
    "\n",
    "# prepare functions and data\n",
    "Non_Linear_Func, Non_Linear_Data = intialize_func(4, X_data, Y_data)\n",
    "\n",
    "if obj_type == 'l2':\n",
    "    Objective_Func = {\n",
    "        'Func': func_val_l2_norm,\n",
    "        'Prox': prox_l2_norm,\n",
    "        'DualFunc': ind_l2_ball,\n",
    "        'DualProx': proj_l2_ball,\n",
    "    }\n",
    "elif obj_type == 'huber':\n",
    "    Objective_Func = {\n",
    "        'Func': func_val_huber,\n",
    "        'Prox': prox_huber,\n",
    "        'Grad': grad_eval_huber,\n",
    "    }"
   ]
  },
  {
   "cell_type": "markdown",
   "metadata": {},
   "source": [
    "## Parameter Initializations"
   ]
  },
  {
   "cell_type": "code",
   "execution_count": 4,
   "metadata": {
    "scrolled": true
   },
   "outputs": [],
   "source": [
    "if obj_type == 'l2':\n",
    "    # sgn\n",
    "    sgn_jac_batch_size = 512\n",
    "    sgn_func_batch_size = 1024\n",
    "\n",
    "    # sgn2\n",
    "    sgn2_jac_batch_size = 128\n",
    "    sgn2_func_batch_size = 256\n",
    "    sgn2_jac_snap_batch_size = int(n_)\n",
    "    sgn2_func_snap_batch_size = int(n_)\n",
    "    sgn2_max_inner = 5000\n",
    "    \n",
    "elif obj_type == 'huber':\n",
    "    # sgn\n",
    "    sgn_jac_batch_size = 512\n",
    "    sgn_func_batch_size = 1024\n",
    "\n",
    "    # sgn2\n",
    "    sgn2_jac_batch_size = 128\n",
    "    sgn2_func_batch_size = 256\n",
    "    sgn2_jac_snap_batch_size = int(n_)\n",
    "    sgn2_func_snap_batch_size = int(n_)\n",
    "    sgn2_max_inner = 5000\n",
    "\n",
    "# Nested-SPIDER\n",
    "nspider_jac_batch_size = 128\n",
    "nspider_func_batch_size = 256\n",
    "nspider_jac_snap_batch_size = int(n_)\n",
    "nspider_func_snap_batch_size = int(n_)\n",
    "nspider_max_inner = 5000\n",
    "nspider_lr = 1.0\n",
    "\n",
    "# SCGD\n",
    "scgd_jac_batch_size = 512\n",
    "scgd_func_batch_size = 1024\n",
    "scgd_lr = 1.0\n",
    "\n",
    "# general problem parameters\n",
    "if obj_type == 'l2':\n",
    "    sub_prob_params = {\n",
    "        'rho': 5.0,\n",
    "        'M_const': 5.0,\n",
    "        'epsilon': 1e-6,\n",
    "        'max_sub_iter': 100,\n",
    "        'RelTolSoln': 1e-6, \n",
    "        'sub_solver': 'adpg',\n",
    "        'n': n_,\n",
    "        'd': d_,\n",
    "    }\n",
    "else:\n",
    "    sub_prob_params = {\n",
    "        'rho': 0.4,\n",
    "        'M_const': 0.4,\n",
    "        'epsilon': 1e-6,\n",
    "        'max_sub_iter': 100,\n",
    "        'RelTolSoln': 1e-6, \n",
    "        'sub_solver': 'adpg',\n",
    "        'n': n_,\n",
    "        'd': d_,\n",
    "    }\n",
    "\n",
    "# gn\n",
    "gn_params = {\n",
    "    'max_epochs':max_num_epochs,\n",
    "}\n",
    "\n",
    "# sgn\n",
    "sgn_params = {\n",
    "    'jac_batch': sgn_jac_batch_size,\n",
    "    'func_batch': sgn_func_batch_size,\n",
    "    'max_epochs':max_num_epochs,\n",
    "}\n",
    "\n",
    "# sgn2\n",
    "sgn2_params = {\n",
    "    'jac_batch': sgn2_jac_batch_size,\n",
    "    'func_batch': sgn2_func_batch_size,\n",
    "    'jac_snap_batch': sgn2_jac_snap_batch_size,\n",
    "    'func_snap_batch': sgn2_func_snap_batch_size,\n",
    "    'max_inner': sgn2_max_inner,\n",
    "    'max_epochs':max_num_epochs,\n",
    "}\n",
    "\n",
    "# nested-spider\n",
    "nspider_params = {\n",
    "    'jac_batch': nspider_jac_batch_size,\n",
    "    'func_batch': nspider_func_batch_size,\n",
    "    'jac_snap_batch': nspider_jac_snap_batch_size,\n",
    "    'func_snap_batch': nspider_func_snap_batch_size,\n",
    "    'max_inner': nspider_max_inner,\n",
    "    'max_epochs':max_num_epochs,\n",
    "    'lr': nspider_lr,\n",
    "    'epsilon': 1e-1,\n",
    "}\n",
    "\n",
    "# scgd\n",
    "scgd_params = {\n",
    "    'jac_batch': scgd_jac_batch_size,\n",
    "    'func_batch': scgd_func_batch_size,\n",
    "    'max_epochs': max_num_epochs,\n",
    "    'lr': scgd_lr,\n",
    "}"
   ]
  },
  {
   "cell_type": "markdown",
   "metadata": {},
   "source": [
    "## Initial Point"
   ]
  },
  {
   "cell_type": "code",
   "execution_count": 5,
   "metadata": {},
   "outputs": [],
   "source": [
    "# set seed\n",
    "np.random.seed(seed_)\n",
    "\n",
    "# generate initial point\n",
    "x0 = np.ones(d_)"
   ]
  },
  {
   "cell_type": "markdown",
   "metadata": {},
   "source": [
    "## Run Algorithms"
   ]
  },
  {
   "cell_type": "code",
   "execution_count": 6,
   "metadata": {},
   "outputs": [],
   "source": [
    "# init history\n",
    "history = []\n",
    "legend_list = []\n",
    "log_dir = []\n",
    "\n",
    "# initialize log directory\n",
    "example_name = 'SNE'\n",
    "dataset = prog_option['Dataset']"
   ]
  },
  {
   "cell_type": "markdown",
   "metadata": {},
   "source": [
    "### GN"
   ]
  },
  {
   "cell_type": "code",
   "execution_count": 7,
   "metadata": {},
   "outputs": [
    {
     "name": "stdout",
     "output_type": "stream",
     "text": [
      "\n",
      "GN Algorithm\n",
      "\n",
      "==========================================================================================\n",
      "    Time     |  # Epochs  |   # Samples   |   Obj. Val.   |  ||G_M(x)||   | Rel. Sol. Ch.\n",
      "------------------------------------------------------------------------------------------\n",
      "  1.16e+00   |    0.0     |   0.000e+00   |   1.929e-03   |   1.176e-03   |      inf     \n",
      "  1.91e+00   |    2.0     |   1.162e+06   |   1.915e-03   |   1.168e-03   |   3.974e-04  \n",
      "  2.65e+00   |    4.0     |   2.324e+06   |   1.902e-03   |   1.161e-03   |   3.947e-04  \n",
      "  3.39e+00   |    6.0     |   3.486e+06   |   1.889e-03   |   1.153e-03   |   3.920e-04  \n",
      "  4.13e+00   |    8.0     |   4.648e+06   |   1.877e-03   |   1.145e-03   |   3.894e-04  \n",
      "  4.90e+00   |    10.0    |   5.810e+06   |   1.864e-03   |   1.138e-03   |   3.868e-04  \n",
      "  5.67e+00   |    12.0    |   6.972e+06   |   1.852e-03   |   1.130e-03   |   3.843e-04  \n",
      "  6.50e+00   |    14.0    |   8.134e+06   |   1.840e-03   |   1.123e-03   |   3.818e-04  \n",
      "  7.23e+00   |    16.0    |   9.296e+06   |   1.828e-03   |   1.116e-03   |   3.794e-04  \n",
      "  7.95e+00   |    18.0    |   1.046e+07   |   1.816e-03   |   1.109e-03   |   3.769e-04  \n",
      "  8.66e+00   |    20.0    |   1.162e+07   |   1.804e-03   |   1.102e-03   |   3.745e-04  \n",
      "  9.41e+00   |    22.0    |   1.278e+07   |   1.793e-03   |   1.095e-03   |   3.722e-04  \n"
     ]
    },
    {
     "ename": "KeyboardInterrupt",
     "evalue": "",
     "output_type": "error",
     "traceback": [
      "\u001b[0;31m---------------------------------------------------------------------------\u001b[0m",
      "\u001b[0;31mKeyboardInterrupt\u001b[0m                         Traceback (most recent call last)",
      "\u001b[0;32m<ipython-input-7-5fd3ec1390bd>\u001b[0m in \u001b[0;36m<module>\u001b[0;34m\u001b[0m\n\u001b[1;32m      1\u001b[0m \u001b[0;31m# GN\u001b[0m\u001b[0;34m\u001b[0m\u001b[0;34m\u001b[0m\u001b[0;34m\u001b[0m\u001b[0m\n\u001b[0;32m----> 2\u001b[0;31m \u001b[0mhist\u001b[0m \u001b[0;34m=\u001b[0m \u001b[0msne_gn\u001b[0m\u001b[0;34m(\u001b[0m\u001b[0mx0\u001b[0m\u001b[0;34m,\u001b[0m \u001b[0mObjective_Func\u001b[0m\u001b[0;34m,\u001b[0m \u001b[0mNon_Linear_Func\u001b[0m\u001b[0;34m,\u001b[0m \u001b[0mNon_Linear_Data\u001b[0m\u001b[0;34m,\u001b[0m \u001b[0msub_prob_params\u001b[0m\u001b[0;34m,\u001b[0m \u001b[0mgn_params\u001b[0m\u001b[0;34m)\u001b[0m\u001b[0;34m\u001b[0m\u001b[0;34m\u001b[0m\u001b[0m\n\u001b[0m\u001b[1;32m      3\u001b[0m log_dir = os.path.join('log_file',example_name,dataset,obj_type,'GN', \n\u001b[1;32m      4\u001b[0m                 \u001b[0;34m\"gn_rho_\"\u001b[0m \u001b[0;34m+\u001b[0m \u001b[0mstr\u001b[0m\u001b[0;34m(\u001b[0m\u001b[0msub_prob_params\u001b[0m\u001b[0;34m[\u001b[0m\u001b[0;34m'rho'\u001b[0m\u001b[0;34m]\u001b[0m\u001b[0;34m)\u001b[0m \u001b[0;34m+\u001b[0m \u001b[0;34m\"_M_\"\u001b[0m \u001b[0;34m+\u001b[0m\u001b[0mstr\u001b[0m\u001b[0;34m(\u001b[0m\u001b[0msub_prob_params\u001b[0m\u001b[0;34m[\u001b[0m\u001b[0;34m'M_const'\u001b[0m\u001b[0;34m]\u001b[0m\u001b[0;34m)\u001b[0m\u001b[0;34m\u001b[0m\u001b[0;34m\u001b[0m\u001b[0m\n\u001b[1;32m      5\u001b[0m                     + \"_ne_{:d}\".format(max_num_epochs))\n",
      "\u001b[0;32m~/Dropbox/UNC/Working/MyCode/SGN_Code_Final/sne_example/method_gn.py\u001b[0m in \u001b[0;36msne_gn\u001b[0;34m(x0, obj_func, non_lin_func, non_lin_dat, prob_params, alg_params, print_interval)\u001b[0m\n\u001b[1;32m     59\u001b[0m                 \u001b[0;31m# calculate jacobian and function estimators\u001b[0m\u001b[0;34m\u001b[0m\u001b[0;34m\u001b[0m\u001b[0;34m\u001b[0m\u001b[0m\n\u001b[1;32m     60\u001b[0m                 \u001b[0;32mfor\u001b[0m \u001b[0mi\u001b[0m \u001b[0;32min\u001b[0m \u001b[0mrange\u001b[0m\u001b[0;34m(\u001b[0m\u001b[0mnum_func\u001b[0m\u001b[0;34m)\u001b[0m\u001b[0;34m:\u001b[0m\u001b[0;34m\u001b[0m\u001b[0;34m\u001b[0m\u001b[0m\n\u001b[0;32m---> 61\u001b[0;31m                         \u001b[0mjac_est\u001b[0m\u001b[0;34m[\u001b[0m\u001b[0mi\u001b[0m\u001b[0;34m,\u001b[0m\u001b[0;34m:\u001b[0m\u001b[0;34m]\u001b[0m\u001b[0;34m,\u001b[0m \u001b[0m_\u001b[0m \u001b[0;34m=\u001b[0m \u001b[0mnon_lin_func\u001b[0m\u001b[0;34m[\u001b[0m\u001b[0;34m'Grad'\u001b[0m\u001b[0;34m]\u001b[0m\u001b[0;34m[\u001b[0m\u001b[0mi\u001b[0m\u001b[0;34m]\u001b[0m\u001b[0;34m(\u001b[0m \u001b[0mn_\u001b[0m\u001b[0;34m,\u001b[0m \u001b[0md_\u001b[0m\u001b[0;34m,\u001b[0m \u001b[0mn_\u001b[0m\u001b[0;34m,\u001b[0m \u001b[0mnon_lin_dat\u001b[0m\u001b[0;34m[\u001b[0m\u001b[0;34m'matrix'\u001b[0m\u001b[0;34m]\u001b[0m\u001b[0;34m,\u001b[0m \u001b[0mnon_lin_dat\u001b[0m\u001b[0;34m[\u001b[0m\u001b[0;34m'label'\u001b[0m\u001b[0;34m]\u001b[0m\u001b[0;34m,\u001b[0m \u001b[0mnon_lin_dat\u001b[0m\u001b[0;34m[\u001b[0m\u001b[0;34m'bias'\u001b[0m\u001b[0;34m]\u001b[0m\u001b[0;34m,\u001b[0m \u001b[0mx_cur\u001b[0m \u001b[0;34m)\u001b[0m\u001b[0;34m\u001b[0m\u001b[0;34m\u001b[0m\u001b[0m\n\u001b[0m\u001b[1;32m     62\u001b[0m                         \u001b[0mfunc_est\u001b[0m\u001b[0;34m[\u001b[0m\u001b[0mi\u001b[0m\u001b[0;34m]\u001b[0m \u001b[0;34m=\u001b[0m \u001b[0mnon_lin_func\u001b[0m\u001b[0;34m[\u001b[0m\u001b[0;34m'Func'\u001b[0m\u001b[0;34m]\u001b[0m\u001b[0;34m[\u001b[0m\u001b[0mi\u001b[0m\u001b[0;34m]\u001b[0m\u001b[0;34m(\u001b[0m\u001b[0mn_\u001b[0m\u001b[0;34m,\u001b[0m \u001b[0md_\u001b[0m\u001b[0;34m,\u001b[0m \u001b[0mn_\u001b[0m\u001b[0;34m,\u001b[0m \u001b[0mnon_lin_dat\u001b[0m\u001b[0;34m[\u001b[0m\u001b[0;34m'matrix'\u001b[0m\u001b[0;34m]\u001b[0m\u001b[0;34m,\u001b[0m \u001b[0mnon_lin_dat\u001b[0m\u001b[0;34m[\u001b[0m\u001b[0;34m'label'\u001b[0m\u001b[0;34m]\u001b[0m\u001b[0;34m,\u001b[0m \u001b[0mnon_lin_dat\u001b[0m\u001b[0;34m[\u001b[0m\u001b[0;34m'bias'\u001b[0m\u001b[0;34m]\u001b[0m\u001b[0;34m,\u001b[0m \u001b[0mx_cur\u001b[0m\u001b[0;34m)\u001b[0m\u001b[0;34m\u001b[0m\u001b[0;34m\u001b[0m\u001b[0m\n\u001b[1;32m     63\u001b[0m \u001b[0;34m\u001b[0m\u001b[0m\n",
      "\u001b[0;32m~/Dropbox/UNC/Working/MyCode/SGN_Code_Final/utils/func_utils.py\u001b[0m in \u001b[0;36mgrad_eval_bin_class_loss_4\u001b[0;34m(n, d, b, X, Y, bias, w, lamb, nnzX)\u001b[0m\n\u001b[1;32m   1776\u001b[0m                         \u001b[0mendIdx\u001b[0m \u001b[0;34m=\u001b[0m \u001b[0mnp\u001b[0m\u001b[0;34m.\u001b[0m\u001b[0mminimum\u001b[0m\u001b[0;34m(\u001b[0m \u001b[0mbatch_size\u001b[0m \u001b[0;34m*\u001b[0m \u001b[0;34m(\u001b[0m \u001b[0mj\u001b[0m \u001b[0;34m+\u001b[0m \u001b[0;36m1\u001b[0m \u001b[0;34m)\u001b[0m\u001b[0;34m,\u001b[0m \u001b[0mn\u001b[0m \u001b[0;34m-\u001b[0m \u001b[0;36m1\u001b[0m \u001b[0;34m)\u001b[0m\u001b[0;34m\u001b[0m\u001b[0;34m\u001b[0m\u001b[0m\n\u001b[1;32m   1777\u001b[0m \u001b[0;34m\u001b[0m\u001b[0m\n\u001b[0;32m-> 1778\u001b[0;31m                         \u001b[0mbatch_X\u001b[0m \u001b[0;34m=\u001b[0m \u001b[0mX\u001b[0m\u001b[0;34m[\u001b[0m\u001b[0mstartIdx\u001b[0m\u001b[0;34m:\u001b[0m\u001b[0mendIdx\u001b[0m\u001b[0;34m,\u001b[0m\u001b[0;34m:\u001b[0m\u001b[0;34m]\u001b[0m\u001b[0;34m\u001b[0m\u001b[0;34m\u001b[0m\u001b[0m\n\u001b[0m\u001b[1;32m   1779\u001b[0m                         \u001b[0mbatch_Y\u001b[0m \u001b[0;34m=\u001b[0m \u001b[0mY\u001b[0m\u001b[0;34m[\u001b[0m\u001b[0mstartIdx\u001b[0m\u001b[0;34m:\u001b[0m\u001b[0mendIdx\u001b[0m\u001b[0;34m]\u001b[0m\u001b[0;34m\u001b[0m\u001b[0;34m\u001b[0m\u001b[0m\n\u001b[1;32m   1780\u001b[0m                         \u001b[0mbatch_bias\u001b[0m \u001b[0;34m=\u001b[0m \u001b[0mbias\u001b[0m\u001b[0;34m[\u001b[0m\u001b[0mstartIdx\u001b[0m\u001b[0;34m:\u001b[0m\u001b[0mendIdx\u001b[0m\u001b[0;34m]\u001b[0m\u001b[0;34m\u001b[0m\u001b[0;34m\u001b[0m\u001b[0m\n",
      "\u001b[0;32m~/miniconda3/lib/python3.6/site-packages/scipy/sparse/_index.py\u001b[0m in \u001b[0;36m__getitem__\u001b[0;34m(self, key)\u001b[0m\n\u001b[1;32m     49\u001b[0m                 \u001b[0;32mif\u001b[0m \u001b[0mrow\u001b[0m \u001b[0;34m==\u001b[0m \u001b[0mslice\u001b[0m\u001b[0;34m(\u001b[0m\u001b[0;32mNone\u001b[0m\u001b[0;34m)\u001b[0m \u001b[0;32mand\u001b[0m \u001b[0mrow\u001b[0m \u001b[0;34m==\u001b[0m \u001b[0mcol\u001b[0m\u001b[0;34m:\u001b[0m\u001b[0;34m\u001b[0m\u001b[0;34m\u001b[0m\u001b[0m\n\u001b[1;32m     50\u001b[0m                     \u001b[0;32mreturn\u001b[0m \u001b[0mself\u001b[0m\u001b[0;34m.\u001b[0m\u001b[0mcopy\u001b[0m\u001b[0;34m(\u001b[0m\u001b[0;34m)\u001b[0m\u001b[0;34m\u001b[0m\u001b[0;34m\u001b[0m\u001b[0m\n\u001b[0;32m---> 51\u001b[0;31m                 \u001b[0;32mreturn\u001b[0m \u001b[0mself\u001b[0m\u001b[0;34m.\u001b[0m\u001b[0m_get_sliceXslice\u001b[0m\u001b[0;34m(\u001b[0m\u001b[0mrow\u001b[0m\u001b[0;34m,\u001b[0m \u001b[0mcol\u001b[0m\u001b[0;34m)\u001b[0m\u001b[0;34m\u001b[0m\u001b[0;34m\u001b[0m\u001b[0m\n\u001b[0m\u001b[1;32m     52\u001b[0m             \u001b[0;32melif\u001b[0m \u001b[0mcol\u001b[0m\u001b[0;34m.\u001b[0m\u001b[0mndim\u001b[0m \u001b[0;34m==\u001b[0m \u001b[0;36m1\u001b[0m\u001b[0;34m:\u001b[0m\u001b[0;34m\u001b[0m\u001b[0;34m\u001b[0m\u001b[0m\n\u001b[1;32m     53\u001b[0m                 \u001b[0;32mreturn\u001b[0m \u001b[0mself\u001b[0m\u001b[0;34m.\u001b[0m\u001b[0m_get_sliceXarray\u001b[0m\u001b[0;34m(\u001b[0m\u001b[0mrow\u001b[0m\u001b[0;34m,\u001b[0m \u001b[0mcol\u001b[0m\u001b[0;34m)\u001b[0m\u001b[0;34m\u001b[0m\u001b[0;34m\u001b[0m\u001b[0m\n",
      "\u001b[0;32m~/miniconda3/lib/python3.6/site-packages/scipy/sparse/compressed.py\u001b[0m in \u001b[0;36m_get_sliceXslice\u001b[0;34m(self, row, col)\u001b[0m\n\u001b[1;32m    650\u001b[0m         \u001b[0mmajor\u001b[0m\u001b[0;34m,\u001b[0m \u001b[0mminor\u001b[0m \u001b[0;34m=\u001b[0m \u001b[0mself\u001b[0m\u001b[0;34m.\u001b[0m\u001b[0m_swap\u001b[0m\u001b[0;34m(\u001b[0m\u001b[0;34m(\u001b[0m\u001b[0mrow\u001b[0m\u001b[0;34m,\u001b[0m \u001b[0mcol\u001b[0m\u001b[0;34m)\u001b[0m\u001b[0;34m)\u001b[0m\u001b[0;34m\u001b[0m\u001b[0;34m\u001b[0m\u001b[0m\n\u001b[1;32m    651\u001b[0m         \u001b[0;32mif\u001b[0m \u001b[0mmajor\u001b[0m\u001b[0;34m.\u001b[0m\u001b[0mstep\u001b[0m \u001b[0;32min\u001b[0m \u001b[0;34m(\u001b[0m\u001b[0;36m1\u001b[0m\u001b[0;34m,\u001b[0m \u001b[0;32mNone\u001b[0m\u001b[0;34m)\u001b[0m \u001b[0;32mand\u001b[0m \u001b[0mminor\u001b[0m\u001b[0;34m.\u001b[0m\u001b[0mstep\u001b[0m \u001b[0;32min\u001b[0m \u001b[0;34m(\u001b[0m\u001b[0;36m1\u001b[0m\u001b[0;34m,\u001b[0m \u001b[0;32mNone\u001b[0m\u001b[0;34m)\u001b[0m\u001b[0;34m:\u001b[0m\u001b[0;34m\u001b[0m\u001b[0;34m\u001b[0m\u001b[0m\n\u001b[0;32m--> 652\u001b[0;31m             \u001b[0;32mreturn\u001b[0m \u001b[0mself\u001b[0m\u001b[0;34m.\u001b[0m\u001b[0m_get_submatrix\u001b[0m\u001b[0;34m(\u001b[0m\u001b[0mmajor\u001b[0m\u001b[0;34m,\u001b[0m \u001b[0mminor\u001b[0m\u001b[0;34m,\u001b[0m \u001b[0mcopy\u001b[0m\u001b[0;34m=\u001b[0m\u001b[0;32mTrue\u001b[0m\u001b[0;34m)\u001b[0m\u001b[0;34m\u001b[0m\u001b[0;34m\u001b[0m\u001b[0m\n\u001b[0m\u001b[1;32m    653\u001b[0m         \u001b[0;32mreturn\u001b[0m \u001b[0mself\u001b[0m\u001b[0;34m.\u001b[0m\u001b[0m_major_slice\u001b[0m\u001b[0;34m(\u001b[0m\u001b[0mmajor\u001b[0m\u001b[0;34m)\u001b[0m\u001b[0;34m.\u001b[0m\u001b[0m_minor_slice\u001b[0m\u001b[0;34m(\u001b[0m\u001b[0mminor\u001b[0m\u001b[0;34m)\u001b[0m\u001b[0;34m\u001b[0m\u001b[0;34m\u001b[0m\u001b[0m\n\u001b[1;32m    654\u001b[0m \u001b[0;34m\u001b[0m\u001b[0m\n",
      "\u001b[0;32m~/miniconda3/lib/python3.6/site-packages/scipy/sparse/compressed.py\u001b[0m in \u001b[0;36m_get_submatrix\u001b[0;34m(self, major, minor, copy)\u001b[0m\n\u001b[1;32m    788\u001b[0m \u001b[0;34m\u001b[0m\u001b[0m\n\u001b[1;32m    789\u001b[0m         indptr, indices, data = get_csr_submatrix(\n\u001b[0;32m--> 790\u001b[0;31m             M, N, self.indptr, self.indices, self.data, i0, i1, j0, j1)\n\u001b[0m\u001b[1;32m    791\u001b[0m \u001b[0;34m\u001b[0m\u001b[0m\n\u001b[1;32m    792\u001b[0m         \u001b[0mshape\u001b[0m \u001b[0;34m=\u001b[0m \u001b[0mself\u001b[0m\u001b[0;34m.\u001b[0m\u001b[0m_swap\u001b[0m\u001b[0;34m(\u001b[0m\u001b[0;34m(\u001b[0m\u001b[0mi1\u001b[0m \u001b[0;34m-\u001b[0m \u001b[0mi0\u001b[0m\u001b[0;34m,\u001b[0m \u001b[0mj1\u001b[0m \u001b[0;34m-\u001b[0m \u001b[0mj0\u001b[0m\u001b[0;34m)\u001b[0m\u001b[0;34m)\u001b[0m\u001b[0;34m\u001b[0m\u001b[0;34m\u001b[0m\u001b[0m\n",
      "\u001b[0;31mKeyboardInterrupt\u001b[0m: "
     ]
    }
   ],
   "source": [
    "# GN\n",
    "hist = sne_gn(x0, Objective_Func, Non_Linear_Func, Non_Linear_Data, sub_prob_params, gn_params)\n",
    "log_dir = os.path.join('log_file',example_name,dataset,obj_type,'GN', \n",
    "                \"gn_rho_\" + str(sub_prob_params['rho']) + \"_M_\" +str(sub_prob_params['M_const'])\n",
    "                    + \"_ne_{:d}\".format(max_num_epochs))\n",
    "if is_log:\n",
    "    print('Saved to',log_dir)\n",
    "    save_history(log_dir, hist)\n",
    "history.append(hist)\n",
    "legend_list.append('GN')"
   ]
  },
  {
   "cell_type": "markdown",
   "metadata": {},
   "source": [
    "### SGN"
   ]
  },
  {
   "cell_type": "code",
   "execution_count": null,
   "metadata": {},
   "outputs": [],
   "source": [
    "# SGN\n",
    "hist = sne_sgn(x0, Objective_Func, Non_Linear_Func, Non_Linear_Data, sub_prob_params, sgn_params)\n",
    "log_dir = os.path.join('log_file',example_name,dataset,obj_type,'SGN', \n",
    "                \"sgn_rho_\" + str(sub_prob_params['rho']) + \"_M_\" +str(sub_prob_params['M_const'])\n",
    "                + \"_b1_\" + str(sgn_params['jac_batch']) + \"_b2_\" + str(sgn_params['func_batch'])\n",
    "                    + \"_ne_{:d}\".format(max_num_epochs))\n",
    "if is_log:\n",
    "    print('Saved to',log_dir)\n",
    "    save_history(log_dir, hist)\n",
    "history.append(hist)\n",
    "legend_list.append('SGN')"
   ]
  },
  {
   "cell_type": "markdown",
   "metadata": {},
   "source": [
    "### SGN2"
   ]
  },
  {
   "cell_type": "code",
   "execution_count": null,
   "metadata": {
    "scrolled": false
   },
   "outputs": [],
   "source": [
    "# SGN2\n",
    "hist = sne_sgn2(x0, Objective_Func, Non_Linear_Func, Non_Linear_Data, sub_prob_params, sgn2_params)\n",
    "log_dir = os.path.join('log_file',example_name,dataset,obj_type,'SGN2', \n",
    "                \"sgn2_rho_\" + str(sub_prob_params['rho']) + \"_M_\" +str(sub_prob_params['M_const'])\n",
    "                    + \"_b1_\" + str(sgn2_params['jac_batch']) + \"_b2_\" + str(sgn2_params['func_batch']) \n",
    "                    + \"_inner_\" + str(sgn2_params['max_inner'])+ \"_ne_{:d}\".format(max_num_epochs))\n",
    "if is_log:\n",
    "    print('Saved to',log_dir)\n",
    "    save_history(log_dir, hist)\n",
    "history.append(hist)\n",
    "legend_list.append('SGN2')"
   ]
  },
  {
   "cell_type": "markdown",
   "metadata": {},
   "source": [
    "### N-SPIDER"
   ]
  },
  {
   "cell_type": "code",
   "execution_count": null,
   "metadata": {
    "scrolled": false
   },
   "outputs": [],
   "source": [
    "# N-SPIDER\n",
    "if obj_type == 'huber':\n",
    "    hist = sne_nspider(x0, Objective_Func, Non_Linear_Func, Non_Linear_Data, sub_prob_params, nspider_params)\n",
    "    log_dir = os.path.join('log_file',example_name,dataset,obj_type,'N-SPIDER', \n",
    "                    \"nspider_\" + \"lr_\" + str(nspider_lr)\n",
    "                        + \"_b1_\" + str(nspider_params['jac_batch']) + \"_b2_\" + str(nspider_params['func_batch']) \n",
    "                        + \"_inner_\" + str(nspider_params['max_inner'])+ \"_ne_{:d}\".format(max_num_epochs))\n",
    "    if is_log:\n",
    "        print('Saved to',log_dir)\n",
    "        save_history(log_dir, hist)\n",
    "    history.append(hist)\n",
    "    legend_list.append('N-SPIDER')"
   ]
  },
  {
   "cell_type": "markdown",
   "metadata": {},
   "source": [
    "### SCGD"
   ]
  },
  {
   "cell_type": "code",
   "execution_count": null,
   "metadata": {},
   "outputs": [],
   "source": [
    "# SCGD\n",
    "if obj_type == 'huber':\n",
    "    hist = sne_scgd(x0, Objective_Func, Non_Linear_Func, Non_Linear_Data, sub_prob_params, scgd_params)\n",
    "    log_dir = os.path.join('log_file',example_name,dataset,obj_type,'SCGD', \n",
    "                    \"scgd_\" + \"lr_\" + str(nspider_lr)\n",
    "                    + \"_b1_\" + str(sgn_params['jac_batch']) + \"_b2_\" + str(sgn_params['func_batch'])\n",
    "                        + \"_ne_{:d}\".format(max_num_epochs))\n",
    "    if is_log:\n",
    "        print('Saved to',log_dir)\n",
    "        save_history(log_dir, hist)\n",
    "    history.append(hist)\n",
    "    legend_list.append('SCGD')"
   ]
  },
  {
   "cell_type": "markdown",
   "metadata": {},
   "source": [
    "## Plot Results"
   ]
  },
  {
   "cell_type": "code",
   "execution_count": null,
   "metadata": {},
   "outputs": [],
   "source": [
    "color = ['r','b','g']\n",
    "color.extend(['C' + str(i) for i in range(10)])\n",
    "\n",
    "fig1 = plt.figure()\n",
    "# markfreq = 2\n",
    "color_cnt = 0\n",
    "for h in history:\n",
    "    plt.semilogy(   np.array(h['Epochs']) ,\n",
    "        np.array(h['Obj']) ,\n",
    "        linestyle = '--',\n",
    "        color = color[color_cnt],\n",
    "                )\n",
    "    color_cnt += 1\n",
    "\n",
    "fig1.suptitle( 'Composition Example' )\n",
    "plt.xlabel( \"Number of Epochs\" )\n",
    "plt.ylabel( \"Objective Value\" )\n",
    "plt.legend(legend_list)\n",
    "plt.show()"
   ]
  },
  {
   "cell_type": "code",
   "execution_count": null,
   "metadata": {
    "scrolled": true
   },
   "outputs": [],
   "source": [
    "minVal = np.inf\n",
    "for h in history:\n",
    "    minV = np.min(h['Obj'])\n",
    "    if minV < minVal:\n",
    "        minVal = minV\n",
    "\n",
    "fig2 = plt.figure()\n",
    "# markfreq = 2\n",
    "p_epsilon = 1e-5\n",
    "color_cnt = 0\n",
    "for h in history:\n",
    "    plt.semilogy(   np.array(h['Epochs']) ,\n",
    "        np.array((h['Obj'] - minVal + p_epsilon)/(np.maximum(1, minVal))) ,\n",
    "        linestyle = '--',\n",
    "        color = color[color_cnt],\n",
    "                )\n",
    "    color_cnt += 1\n",
    "\n",
    "fig2.suptitle( 'Composition Example' )\n",
    "plt.xlabel( \"Number of Epochs\" )\n",
    "plt.ylabel( \"Relative Objective\" )\n",
    "plt.legend(legend_list)\n",
    "plt.show()"
   ]
  }
 ],
 "metadata": {
  "kernelspec": {
   "display_name": "Python 3",
   "language": "python",
   "name": "python3"
  },
  "language_info": {
   "codemirror_mode": {
    "name": "ipython",
    "version": 3
   },
   "file_extension": ".py",
   "mimetype": "text/x-python",
   "name": "python",
   "nbconvert_exporter": "python",
   "pygments_lexer": "ipython3",
   "version": "3.6.10"
  }
 },
 "nbformat": 4,
 "nbformat_minor": 4
}
