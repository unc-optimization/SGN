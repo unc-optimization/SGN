{
 "cells": [
  {
   "cell_type": "markdown",
   "metadata": {},
   "source": [
    "## Import Libraries"
   ]
  },
  {
   "cell_type": "code",
   "execution_count": 1,
   "metadata": {},
   "outputs": [],
   "source": [
    "import sys\n",
    "\n",
    "sys.path.insert(1, '../')\n",
    "\n",
    "import numpy as np\n",
    "import pandas as pd\n",
    "import scipy\n",
    "import sklearn\n",
    "\n",
    "from utils.arg_parser import *\n",
    "from utils.import_data import *\n",
    "\n",
    "\n",
    "from sne_example.method_sgn2 import *\n",
    "from sne_example.method_gn import *\n",
    "from sne_example.method_sgn import *\n",
    "from sne_example.method_nspider import *\n",
    "from sne_example.method_scgd import *\n",
    "\n",
    "\n",
    "from matplotlib import pyplot as plt\n",
    "import datetime, os, sys\n",
    "import random\n",
    "\n",
    "from sklearn.utils import resample"
   ]
  },
  {
   "cell_type": "markdown",
   "metadata": {},
   "source": [
    "## Parse Arguments"
   ]
  },
  {
   "cell_type": "code",
   "execution_count": 2,
   "metadata": {},
   "outputs": [],
   "source": [
    "# input arguments\n",
    "sys.argv = ['sne_real_data.py', \n",
    "            '--obj', 'huber',      # objective type\n",
    "            '-ne', '100',          # max num epochs\n",
    "            '--seed', '42',        # seed\n",
    "            '--alg', '1', '2','3', # algorithms to run \n",
    "            '--data', 'w8a',       # dataset name\n",
    "            '--enable-log'         # save log data\n",
    "           ]\n",
    "\n",
    "# parse arguments\n",
    "prog_option = argParser()\n",
    "\n",
    "# extract options\n",
    "is_plot         = prog_option[\"PlotOption\"]\n",
    "is_log          = prog_option[\"LogEnable\"]\n",
    "max_num_epochs  = prog_option[\"MaxNumEpoch\"]\n",
    "obj_type        = prog_option[\"Objective\"]\n",
    "seed_           = prog_option[\"Seed\"]\n",
    "dataset         = prog_option['Dataset']\n",
    "\n",
    "alg_option = prog_option[\"Alg\"]"
   ]
  },
  {
   "cell_type": "markdown",
   "metadata": {},
   "source": [
    "## Input Preprocessing"
   ]
  },
  {
   "cell_type": "code",
   "execution_count": 3,
   "metadata": {},
   "outputs": [],
   "source": [
    "# get data\n",
    "X_data, Y_data = import_data(dataset)\n",
    "\n",
    "# use sparse matrix for efficient computation\n",
    "if not scipy.sparse.isspmatrix_csr(X_data):\n",
    "    X_data = scipy.sparse.csr_matrix(X_data)\n",
    "\n",
    "# get dimensions\n",
    "n_ = X_data.shape[0]\n",
    "d_ = X_data.shape[-1]\n",
    "\n",
    "# prepare functions and data\n",
    "Non_Linear_Func, Non_Linear_Data = intialize_func(4, X_data, Y_data)\n",
    "\n",
    "if obj_type == 'l1':\n",
    "    Objective_Func = {\n",
    "        'Func': func_val_l1_norm,\n",
    "        'Prox': prox_l1_norm,\n",
    "        'DualFunc': ind_linf_ball,\n",
    "        'DualProx': proj_linf_ball,\n",
    "    }\n",
    "elif obj_type == 'l2':\n",
    "    Objective_Func = {\n",
    "        'Func': func_val_l2_norm,\n",
    "        'Prox': prox_l2_norm,\n",
    "        'DualFunc': ind_l2_ball,\n",
    "        'DualProx': proj_l2_ball,\n",
    "    }\n",
    "elif obj_type == 'huber':\n",
    "    Objective_Func = {\n",
    "        'Func': func_val_huber,\n",
    "        'Prox': prox_huber,\n",
    "        'Grad': grad_eval_huber,\n",
    "    }"
   ]
  },
  {
   "cell_type": "markdown",
   "metadata": {},
   "source": [
    "## Parameter Initializations"
   ]
  },
  {
   "cell_type": "code",
   "execution_count": 4,
   "metadata": {
    "scrolled": true
   },
   "outputs": [],
   "source": [
    "if obj_type == 'l2':\n",
    "    sgn_jac_batch_size = 256\n",
    "    sgn_func_batch_size = 512\n",
    "\n",
    "    # sgn2\n",
    "    sgn2_jac_batch_size = 64\n",
    "    sgn2_func_batch_size = 128\n",
    "    sgn2_jac_snap_batch_size = int(n_)\n",
    "    sgn2_func_snap_batch_size = int(n_)\n",
    "    sgn2_max_inner = 2000\n",
    "elif obj_type == 'l1':\n",
    "    sgn_jac_batch_size = 512\n",
    "    sgn_func_batch_size = 1024\n",
    "\n",
    "    # sgn2\n",
    "    sgn2_jac_batch_size = 64\n",
    "    sgn2_func_batch_size = 128\n",
    "    sgn2_jac_snap_batch_size = int(n_)\n",
    "    sgn2_func_snap_batch_size = int(n_)\n",
    "    sgn2_max_inner = 2000\n",
    "elif obj_type == 'huber':\n",
    "    sgn_jac_batch_size = 256\n",
    "    sgn_func_batch_size = 512\n",
    "\n",
    "    # sgn2\n",
    "    sgn2_jac_batch_size = 64\n",
    "    sgn2_func_batch_size = 128\n",
    "    sgn2_jac_snap_batch_size = int(n_)\n",
    "    sgn2_func_snap_batch_size = int(n_)\n",
    "    sgn2_max_inner = 5000\n",
    "\n",
    "# Nested-SPIDER\n",
    "nspider_jac_batch_size = 64\n",
    "nspider_func_batch_size = 128\n",
    "nspider_jac_snap_batch_size = int(n_)\n",
    "nspider_func_snap_batch_size = int(n_)\n",
    "nspider_max_inner = 5000\n",
    "nspider_lr = 1.0\n",
    "\n",
    "# SCGD\n",
    "scgd_jac_batch_size = 256\n",
    "scgd_func_batch_size = 512\n",
    "scgd_lr = 1.0\n",
    "\n",
    "# general problem parameters\n",
    "if obj_type == 'l1':\n",
    "    sub_prob_params = {\n",
    "        'rho': 5.0,\n",
    "        'M_const': 5.0,\n",
    "        'epsilon': 1e-6,\n",
    "        'max_sub_iter': 100,\n",
    "        'RelTolSoln': 1e-6, \n",
    "        'sub_solver': 'adpg',\n",
    "    }\n",
    "elif obj_type == 'l2':\n",
    "    sub_prob_params = {\n",
    "        'rho': 5.0,\n",
    "        'M_const': 5.0,\n",
    "        'epsilon': 1e-6,\n",
    "        'max_sub_iter': 100,\n",
    "        'RelTolSoln': 1e-6, \n",
    "        'sub_solver': 'adpg',\n",
    "    }\n",
    "else:\n",
    "    sub_prob_params = {\n",
    "    'rho': 0.9,\n",
    "    'M_const': 0.9,\n",
    "    'epsilon': 1e-6,\n",
    "    'max_sub_iter': 100,\n",
    "    'RelTolSoln': 1e-6, \n",
    "    'sub_solver': 'adpg',\n",
    "}\n",
    "\n",
    "# gn\n",
    "gn_params = {\n",
    "    'max_epochs':max_num_epochs,\n",
    "}\n",
    "\n",
    "# sgn\n",
    "sgn_params = {\n",
    "    'jac_batch': sgn_jac_batch_size,\n",
    "    'func_batch': sgn_func_batch_size,\n",
    "    'max_epochs':max_num_epochs,\n",
    "}\n",
    "\n",
    "# sgn2\n",
    "sgn2_params = {\n",
    "    'jac_batch': sgn2_jac_batch_size,\n",
    "    'func_batch': sgn2_func_batch_size,\n",
    "    'jac_snap_batch': sgn2_jac_snap_batch_size,\n",
    "    'func_snap_batch': sgn2_func_snap_batch_size,\n",
    "    'max_inner': sgn2_max_inner,\n",
    "    'max_epochs':max_num_epochs,\n",
    "}\n",
    "\n",
    "# nested-spider\n",
    "nspider_params = {\n",
    "    'jac_batch': nspider_jac_batch_size,\n",
    "    'func_batch': nspider_func_batch_size,\n",
    "    'jac_snap_batch': nspider_jac_snap_batch_size,\n",
    "    'func_snap_batch': nspider_func_snap_batch_size,\n",
    "    'max_inner': nspider_max_inner,\n",
    "    'max_epochs':max_num_epochs,\n",
    "    'lr': nspider_lr,\n",
    "    'epsilon': 1e-2,\n",
    "}\n",
    "\n",
    "# scgd\n",
    "scgd_params = {\n",
    "    'jac_batch': scgd_jac_batch_size,\n",
    "    'func_batch': scgd_func_batch_size,\n",
    "    'max_epochs': max_num_epochs,\n",
    "    'lr': scgd_lr,\n",
    "}"
   ]
  },
  {
   "cell_type": "markdown",
   "metadata": {},
   "source": [
    "## Initial Point"
   ]
  },
  {
   "cell_type": "code",
   "execution_count": 5,
   "metadata": {},
   "outputs": [],
   "source": [
    "# set seed\n",
    "np.random.seed(seed_)\n",
    "\n",
    "# generate initial point\n",
    "x0 = np.ones(d_)"
   ]
  },
  {
   "cell_type": "markdown",
   "metadata": {},
   "source": [
    "## Run Algorithms"
   ]
  },
  {
   "cell_type": "code",
   "execution_count": 6,
   "metadata": {},
   "outputs": [],
   "source": [
    "# init history\n",
    "history = []\n",
    "legend_list = []\n",
    "log_dir = []\n",
    "\n",
    "# initialize log directory\n",
    "example_name = 'SNE'\n",
    "dataset = prog_option['Dataset']"
   ]
  },
  {
   "cell_type": "markdown",
   "metadata": {},
   "source": [
    "### GN"
   ]
  },
  {
   "cell_type": "code",
   "execution_count": 7,
   "metadata": {},
   "outputs": [
    {
     "name": "stdout",
     "output_type": "stream",
     "text": [
      "\n",
      "GN Algorithm\n",
      "\n",
      "==========================================================================================\n",
      "    Time     |  # Epochs  |   # Samples   |   Obj. Val.   |  ||G_M(x)||   | Rel. Sol. Ch.\n",
      "------------------------------------------------------------------------------------------\n",
      "  1.23e-01   |    0.0     |   0.000e+00   |   4.111e+00   |   1.757e-01   |      inf     \n",
      "  2.57e-01   |    2.0     |   9.950e+04   |   4.077e+00   |   1.801e-01   |   1.169e-02  \n",
      "  3.64e-01   |    4.0     |   1.990e+05   |   4.041e+00   |   1.848e-01   |   1.207e-02  \n",
      "  4.60e-01   |    6.0     |   2.985e+05   |   4.003e+00   |   1.899e-01   |   1.248e-02  \n",
      "  5.51e-01   |    8.0     |   3.980e+05   |   3.963e+00   |   1.954e-01   |   1.293e-02  \n",
      "  6.51e-01   |    10.0    |   4.975e+05   |   3.921e+00   |   2.013e-01   |   1.341e-02  \n",
      "  7.47e-01   |    12.0    |   5.970e+05   |   3.876e+00   |   2.078e-01   |   1.393e-02  \n",
      "  8.33e-01   |    14.0    |   6.965e+05   |   3.828e+00   |   2.149e-01   |   1.450e-02  \n",
      "  9.24e-01   |    16.0    |   7.960e+05   |   3.776e+00   |   2.227e-01   |   1.512e-02  \n",
      "  1.01e+00   |    18.0    |   8.955e+05   |   3.721e+00   |   2.312e-01   |   1.580e-02  \n",
      "  1.09e+00   |    20.0    |   9.950e+05   |   3.661e+00   |   2.405e-01   |   1.655e-02  \n",
      "  1.17e+00   |    22.0    |   1.094e+06   |   3.597e+00   |   2.508e-01   |   1.737e-02  \n",
      "  1.25e+00   |    24.0    |   1.194e+06   |   3.526e+00   |   2.620e-01   |   1.827e-02  \n",
      "  1.32e+00   |    26.0    |   1.293e+06   |   3.449e+00   |   2.744e-01   |   1.926e-02  \n",
      "  1.39e+00   |    28.0    |   1.393e+06   |   3.364e+00   |   2.879e-01   |   2.034e-02  \n",
      "  1.48e+00   |    30.0    |   1.492e+06   |   3.270e+00   |   3.025e-01   |   2.151e-02  \n",
      "  1.56e+00   |    32.0    |   1.592e+06   |   3.167e+00   |   3.181e-01   |   2.276e-02  \n",
      "  1.64e+00   |    34.0    |   1.691e+06   |   3.052e+00   |   3.346e-01   |   2.409e-02  \n",
      "  1.74e+00   |    36.0    |   1.791e+06   |   2.925e+00   |   3.516e-01   |   2.547e-02  \n",
      "  1.81e+00   |    38.0    |   1.890e+06   |   2.785e+00   |   3.689e-01   |   2.687e-02  \n",
      "  1.89e+00   |    40.0    |   1.990e+06   |   2.630e+00   |   3.858e-01   |   2.826e-02  \n",
      "  1.98e+00   |    42.0    |   2.089e+06   |   2.460e+00   |   4.018e-01   |   2.957e-02  \n",
      "  2.07e+00   |    44.0    |   2.189e+06   |   2.276e+00   |   4.157e-01   |   3.073e-02  \n",
      "  2.14e+00   |    46.0    |   2.288e+06   |   2.078e+00   |   4.260e-01   |   3.162e-02  \n",
      "  2.23e+00   |    48.0    |   2.388e+06   |   1.871e+00   |   4.311e-01   |   3.211e-02  \n",
      "  2.31e+00   |    50.0    |   2.487e+06   |   1.658e+00   |   4.292e-01   |   3.207e-02  \n",
      "  2.39e+00   |    52.0    |   2.587e+06   |   1.447e+00   |   4.194e-01   |   3.142e-02  \n",
      "  2.46e+00   |    54.0    |   2.686e+06   |   1.245e+00   |   3.832e-01   |   2.876e-02  \n",
      "  2.55e+00   |    56.0    |   2.786e+06   |   1.072e+00   |   3.500e-01   |   2.631e-02  \n",
      "  2.63e+00   |    58.0    |   2.885e+06   |   9.271e-01   |   3.024e-01   |   2.277e-02  \n",
      "  2.72e+00   |    60.0    |   2.985e+06   |   8.149e-01   |   2.657e-01   |   2.003e-02  \n",
      "  2.79e+00   |    62.0    |   3.084e+06   |   7.268e-01   |   2.339e-01   |   1.765e-02  \n",
      "  2.87e+00   |    64.0    |   3.184e+06   |   6.571e-01   |   2.067e-01   |   1.562e-02  \n",
      "  2.94e+00   |    66.0    |   3.283e+06   |   6.014e-01   |   1.836e-01   |   1.389e-02  \n",
      "  3.02e+00   |    68.0    |   3.383e+06   |   5.564e-01   |   1.641e-01   |   1.242e-02  \n",
      "  3.12e+00   |    70.0    |   3.482e+06   |   5.196e-01   |   1.475e-01   |   1.118e-02  \n",
      "  3.20e+00   |    72.0    |   3.582e+06   |   4.893e-01   |   1.334e-01   |   1.012e-02  \n",
      "  3.28e+00   |    74.0    |   3.681e+06   |   4.639e-01   |   1.214e-01   |   9.224e-03  \n",
      "  3.36e+00   |    76.0    |   3.781e+06   |   4.424e-01   |   1.112e-01   |   8.456e-03  \n",
      "  3.43e+00   |    78.0    |   3.880e+06   |   4.241e-01   |   1.024e-01   |   7.798e-03  \n",
      "  3.51e+00   |    80.0    |   3.980e+06   |   4.083e-01   |   9.484e-02   |   7.232e-03  \n",
      "  3.59e+00   |    82.0    |   4.079e+06   |   3.946e-01   |   8.832e-02   |   6.743e-03  \n",
      "  3.67e+00   |    84.0    |   4.179e+06   |   3.826e-01   |   8.269e-02   |   6.321e-03  \n",
      "  3.75e+00   |    86.0    |   4.278e+06   |   3.720e-01   |   7.779e-02   |   5.954e-03  \n",
      "  3.83e+00   |    88.0    |   4.378e+06   |   3.626e-01   |   7.353e-02   |   5.635e-03  \n",
      "  3.90e+00   |    90.0    |   4.477e+06   |   3.542e-01   |   6.981e-02   |   5.357e-03  \n",
      "  3.98e+00   |    92.0    |   4.577e+06   |   3.467e-01   |   6.655e-02   |   5.114e-03  \n",
      "  4.06e+00   |    94.0    |   4.676e+06   |   3.399e-01   |   6.369e-02   |   4.900e-03  \n",
      "  4.15e+00   |    96.0    |   4.776e+06   |   3.337e-01   |   6.116e-02   |   4.712e-03  \n",
      "  4.24e+00   |    98.0    |   4.875e+06   |   3.281e-01   |   5.894e-02   |   4.547e-03  \n",
      "  4.32e+00   |   100.0    |   4.975e+06   |   3.229e-01   |   5.697e-02   |   4.401e-03  \n",
      "==========================================================================================\n",
      "Saved to log_file/SNE/w8a/huber/GN/gn_rho_0.9_M_0.9_ne_100\n"
     ]
    }
   ],
   "source": [
    "# GN\n",
    "hist = sne_gn(x0, Objective_Func, Non_Linear_Func, Non_Linear_Data, sub_prob_params, gn_params)\n",
    "log_dir = os.path.join('log_file',example_name,dataset,obj_type,'GN', \n",
    "                \"gn_rho_\" + str(sub_prob_params['rho']) + \"_M_\" +str(sub_prob_params['M_const'])\n",
    "                    + \"_ne_{:d}\".format(max_num_epochs))\n",
    "if is_log:\n",
    "    print('Saved to',log_dir)\n",
    "    save_history(log_dir, hist)\n",
    "history.append(hist)\n",
    "legend_list.append('GN')"
   ]
  },
  {
   "cell_type": "markdown",
   "metadata": {},
   "source": [
    "### SGN"
   ]
  },
  {
   "cell_type": "code",
   "execution_count": null,
   "metadata": {},
   "outputs": [
    {
     "name": "stdout",
     "output_type": "stream",
     "text": [
      "\n",
      "SGN Algorithm\n",
      "\n",
      "==========================================================================================\n",
      "    Time     |  # Epochs  |   # Samples   |   Obj. Val.   |  ||G_M(x)||   | Rel. Sol. Ch.\n",
      "------------------------------------------------------------------------------------------\n",
      "  9.93e-02   |    0.0     |   0.000e+00   |   4.111e+00   |   1.757e-01   |      inf     \n",
      "  1.40e+00   |    2.0     |   9.984e+04   |   2.023e-01   |   3.318e-02   |   3.012e-03  \n",
      "  2.66e+00   |    4.0     |   1.997e+05   |   7.668e-02   |   1.294e-02   |   1.230e-03  \n",
      "  3.88e+00   |    6.0     |   2.995e+05   |   6.587e-02   |   5.201e-03   |   9.197e-04  \n",
      "  5.20e+00   |    8.0     |   3.994e+05   |   6.216e-02   |   3.795e-03   |   7.260e-04  \n",
      "  6.53e+00   |    10.0    |   4.992e+05   |   6.047e-02   |   3.082e-03   |   9.298e-04  \n",
      "  7.98e+00   |    12.0    |   5.990e+05   |   5.840e-02   |   2.665e-03   |   7.513e-04  \n",
      "  9.36e+00   |    14.0    |   6.989e+05   |   5.811e-02   |   2.258e-03   |   6.055e-04  \n",
      "  1.06e+01   |    16.1    |   7.987e+05   |   5.825e-02   |   2.127e-03   |   7.361e-04  \n",
      "  1.19e+01   |    18.1    |   8.986e+05   |   5.621e-02   |   1.900e-03   |   5.310e-04  \n",
      "  1.32e+01   |    20.1    |   9.984e+05   |   5.604e-02   |   1.625e-03   |   6.288e-04  \n",
      "  1.46e+01   |    22.1    |   1.098e+06   |   5.583e-02   |   1.458e-03   |   6.238e-04  \n",
      "  1.59e+01   |    24.1    |   1.198e+06   |   5.523e-02   |   1.411e-03   |   5.685e-04  \n",
      "  1.73e+01   |    26.1    |   1.298e+06   |   5.538e-02   |   1.235e-03   |   6.471e-04  \n",
      "  1.87e+01   |    28.1    |   1.398e+06   |   5.554e-02   |   1.183e-03   |   7.636e-04  \n"
     ]
    }
   ],
   "source": [
    "# SGN\n",
    "hist = sne_sgn(x0, Objective_Func, Non_Linear_Func, Non_Linear_Data, sub_prob_params, sgn_params)\n",
    "log_dir = os.path.join('log_file',example_name,dataset,obj_type,'SGN', \n",
    "                \"sgn_rho_\" + str(sub_prob_params['rho']) + \"_M_\" +str(sub_prob_params['M_const'])\n",
    "                + \"_b1_\" + str(sgn_params['jac_batch']) + \"_b2_\" + str(sgn_params['func_batch'])\n",
    "                    + \"_ne_{:d}\".format(max_num_epochs))\n",
    "if is_log:\n",
    "    print('Saved to',log_dir)\n",
    "    save_history(log_dir, hist)\n",
    "history.append(hist)\n",
    "legend_list.append('SGN')"
   ]
  },
  {
   "cell_type": "markdown",
   "metadata": {},
   "source": [
    "### SGN2"
   ]
  },
  {
   "cell_type": "code",
   "execution_count": null,
   "metadata": {
    "scrolled": false
   },
   "outputs": [],
   "source": [
    "# SGN2\n",
    "hist = sne_sgn2(x0, Objective_Func, Non_Linear_Func, Non_Linear_Data, sub_prob_params, sgn2_params)\n",
    "log_dir = os.path.join('log_file',example_name,dataset,obj_type,'SGN2', \n",
    "                \"sgn2_rho_\" + str(sub_prob_params['rho']) + \"_M_\" +str(sub_prob_params['M_const'])\n",
    "                    + \"_b1_\" + str(sgn2_params['jac_batch']) + \"_b2_\" + str(sgn2_params['func_batch']) \n",
    "                    + \"_inner_\" + str(sgn2_params['max_inner'])+ \"_ne_{:d}\".format(max_num_epochs))\n",
    "if is_log:\n",
    "    print('Saved to',log_dir)\n",
    "    save_history(log_dir, hist)\n",
    "history.append(hist)\n",
    "legend_list.append('SGN2')"
   ]
  },
  {
   "cell_type": "markdown",
   "metadata": {},
   "source": [
    "### N-SPIDER"
   ]
  },
  {
   "cell_type": "code",
   "execution_count": null,
   "metadata": {
    "scrolled": false
   },
   "outputs": [],
   "source": [
    "# N-SPIDER\n",
    "if obj_type == 'huber':\n",
    "    hist = sne_nspider(x0, Objective_Func, Non_Linear_Func, Non_Linear_Data, sub_prob_params, nspider_params)\n",
    "    log_dir = os.path.join('log_file',example_name,dataset,obj_type,'N-SPIDER', \n",
    "                    \"nspider_\" + \"lr_\" + str(nspider_lr)\n",
    "                        + \"_b1_\" + str(nspider_params['jac_batch']) + \"_b2_\" + str(nspider_params['func_batch']) \n",
    "                        + \"_inner_\" + str(nspider_params['max_inner'])+ \"_ne_{:d}\".format(max_num_epochs))\n",
    "    if is_log:\n",
    "        print('Saved to',log_dir)\n",
    "        save_history(log_dir, hist)\n",
    "    history.append(hist)\n",
    "    legend_list.append('N-SPIDER')"
   ]
  },
  {
   "cell_type": "markdown",
   "metadata": {},
   "source": [
    "### SCGD"
   ]
  },
  {
   "cell_type": "code",
   "execution_count": null,
   "metadata": {},
   "outputs": [],
   "source": [
    "# SCGD\n",
    "if obj_type == 'huber':\n",
    "    hist = sne_scgd(x0, Objective_Func, Non_Linear_Func, Non_Linear_Data, sub_prob_params, scgd_params)\n",
    "    log_dir = os.path.join('log_file',example_name,dataset,obj_type,'SCGD', \n",
    "                    \"scgd_\" + \"lr_\" + str(nspider_lr)\n",
    "                    + \"_b1_\" + str(sgn_params['jac_batch']) + \"_b2_\" + str(sgn_params['func_batch'])\n",
    "                        + \"_ne_{:d}\".format(max_num_epochs))\n",
    "    if is_log:\n",
    "        print('Saved to',log_dir)\n",
    "        save_history(log_dir, hist)\n",
    "    history.append(hist)\n",
    "    legend_list.append('SCGD')"
   ]
  },
  {
   "cell_type": "markdown",
   "metadata": {},
   "source": [
    "## Plot Results"
   ]
  },
  {
   "cell_type": "code",
   "execution_count": null,
   "metadata": {},
   "outputs": [],
   "source": [
    "color = ['r','b','g']\n",
    "color.extend(['C' + str(i) for i in range(10)])\n",
    "\n",
    "fig1 = plt.figure()\n",
    "# markfreq = 2\n",
    "color_cnt = 0\n",
    "for h in history:\n",
    "    plt.semilogy(   np.array(h['Epochs']) ,\n",
    "        np.array(h['Obj']) ,\n",
    "        linestyle = '--',\n",
    "        color = color[color_cnt],\n",
    "                )\n",
    "    color_cnt += 1\n",
    "\n",
    "fig1.suptitle( 'Composition Example' )\n",
    "plt.xlabel( \"Number of Epochs\" )\n",
    "plt.ylabel( \"Objective Value\" )\n",
    "plt.legend(legend_list)\n",
    "plt.show()"
   ]
  }
 ],
 "metadata": {
  "kernelspec": {
   "display_name": "Python 3",
   "language": "python",
   "name": "python3"
  },
  "language_info": {
   "codemirror_mode": {
    "name": "ipython",
    "version": 3
   },
   "file_extension": ".py",
   "mimetype": "text/x-python",
   "name": "python",
   "nbconvert_exporter": "python",
   "pygments_lexer": "ipython3",
   "version": "3.6.10"
  }
 },
 "nbformat": 4,
 "nbformat_minor": 4
}
