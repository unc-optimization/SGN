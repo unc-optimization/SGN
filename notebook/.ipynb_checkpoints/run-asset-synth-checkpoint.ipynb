{
 "cells": [
  {
   "cell_type": "markdown",
   "metadata": {},
   "source": [
    "## Import Libraries"
   ]
  },
  {
   "cell_type": "code",
   "execution_count": 1,
   "metadata": {},
   "outputs": [],
   "source": [
    "import sys\n",
    "\n",
    "sys.path.insert(1, '../')\n",
    "\n",
    "import numpy as np\n",
    "import pandas as pd\n",
    "import scipy\n",
    "\n",
    "from utils.arg_parser import *\n",
    "from utils.import_data import save_history\n",
    "\n",
    "from asset_example.method_sgn2 import *\n",
    "from asset_example.method_gn import *\n",
    "from asset_example.method_sgn import *\n",
    "from asset_example.asset_utils import *\n",
    "\n",
    "from matplotlib import pyplot as plt\n",
    "import datetime, os, sys\n",
    "import random\n"
   ]
  },
  {
   "cell_type": "markdown",
   "metadata": {},
   "source": [
    "## Argument Parser"
   ]
  },
  {
   "cell_type": "code",
   "execution_count": 2,
   "metadata": {},
   "outputs": [],
   "source": [
    "# input arguments\n",
    "sys.argv = ['asset_alloc.py',       # objective type\n",
    "            '-ne', '100',           # max num epochs\n",
    "            '--seed', '42',         # seed\n",
    "            '--alg', '1', '2','3',  # algorithms to run \n",
    "#             '--enable-log'          # save log data\n",
    "           ]\n",
    "\n",
    "# parse arguments\n",
    "prog_option = argParser()\n",
    "\n",
    "# extract options\n",
    "is_plot = prog_option[\"PlotOption\"]\n",
    "is_log = prog_option[\"LogEnable\"]\n",
    "max_num_epochs = prog_option[\"MaxNumEpoch\"]\n",
    "\n",
    "alg_option = prog_option[\"Alg\"]"
   ]
  },
  {
   "cell_type": "markdown",
   "metadata": {},
   "source": [
    "## Dataset Preprocessing"
   ]
  },
  {
   "cell_type": "code",
   "execution_count": 3,
   "metadata": {},
   "outputs": [],
   "source": [
    "# dimension definitions\n",
    "n_ = 100000\n",
    "d_ = 300\n",
    "\n",
    "# generate data\n",
    "seed = prog_option['Seed']\n",
    "np.random.seed(seed)\n",
    "xi_bar = np.random.uniform(low = 0.9, high = 1.2, size=(n_,d_))\n",
    "np.random.seed(seed)\n",
    "Q_mat = np.random.uniform(low = 0, high = 0.1, size = (d_,d_))\n",
    "np.random.seed(seed)\n",
    "zeta_vt = np.random.normal(0,1, size=(n_,d_))\n",
    "data = xi_bar + zeta_vt.dot(Q_mat)\n",
    "mu_vect = np.mean(data,axis = 0)\n",
    "mu_vect = np.append(mu_vect,0)\n",
    "\n",
    "in_data = {\n",
    "    'A': data,\n",
    "    'mu': mu_vect,\n",
    "}\n"
   ]
  },
  {
   "cell_type": "code",
   "execution_count": 4,
   "metadata": {},
   "outputs": [],
   "source": [
    "# generate an initil point\n",
    "x0 = np.random.uniform(low=0,high=1, size=d_)\n",
    "x0 = proj_simplex(x0)\n",
    "x0 = np.append(x0,0)"
   ]
  },
  {
   "cell_type": "markdown",
   "metadata": {},
   "source": [
    "## Parameter Setup"
   ]
  },
  {
   "cell_type": "code",
   "execution_count": 5,
   "metadata": {},
   "outputs": [],
   "source": [
    "n = 100000\n",
    "d = 700"
   ]
  },
  {
   "cell_type": "code",
   "execution_count": 6,
   "metadata": {},
   "outputs": [],
   "source": [
    "##### Case: n=100000, d = 300 #####\n",
    "if n==100000 and d==300:\n",
    "    # sgn2\n",
    "    sgn2_jac_batch_size = 128\n",
    "    sgn2_func_batch_size = 256\n",
    "    sgn2_jac_snap_batch_size = int(n_)\n",
    "    sgn2_func_snap_batch_size = int(n_)\n",
    "    sgn2_max_inner = 5000\n",
    "\n",
    "    # sgn\n",
    "    sgn_jac_batch_size = 1024\n",
    "    sgn_func_batch_size = 2048\n",
    "\n",
    "##### Case: n=100000, d = 500 #####\n",
    "if n==100000 and d==500:\n",
    "    # sgn2\n",
    "    sgn2_jac_batch_size = 128\n",
    "    sgn2_func_batch_size = 256\n",
    "    sgn2_jac_snap_batch_size = int(n_)\n",
    "    sgn2_func_snap_batch_size = int(n_)\n",
    "    sgn2_max_inner = 5000\n",
    "\n",
    "    # sgn\n",
    "    sgn_jac_batch_size = 1024\n",
    "    sgn_func_batch_size = 2048\n",
    "\n",
    "##### Case: n=100000, d = 700 #####\n",
    "if n==100000 and d==700:\n",
    "    # sgn2\n",
    "    sgn2_jac_batch_size = 256\n",
    "    sgn2_func_batch_size = 512\n",
    "    sgn2_jac_snap_batch_size = int(n_)\n",
    "    sgn2_func_snap_batch_size = int(n_)\n",
    "    sgn2_max_inner = 2000\n",
    "\n",
    "    # sgn\n",
    "    sgn_jac_batch_size = 512\n",
    "    sgn_func_batch_size = 1024\n"
   ]
  },
  {
   "cell_type": "code",
   "execution_count": 7,
   "metadata": {
    "scrolled": true
   },
   "outputs": [],
   "source": [
    "# general problem parameters\n",
    "sub_prob_params_gn = {\n",
    "    'M_const': 0.5,\n",
    "    'max_sub_iter': 200,\n",
    "    'RelTolX': 1e-6, \n",
    "    'RelTolFeas': 1e-6,\n",
    "    'rho': 0.5,\n",
    "    'beta':0.1,\n",
    "}\n",
    "\n",
    "sub_prob_params_sgn = {\n",
    "    'M_const': 0.5,\n",
    "    'max_sub_iter': 100,\n",
    "    'RelTolX': 1e-6, \n",
    "    'RelTolFeas': 1e-6,\n",
    "    'rho': 0.5,\n",
    "    'beta':0.1,\n",
    "}\n",
    "\n",
    "sub_prob_params_sgn2 = {\n",
    "    'M_const': 0.5,\n",
    "    'max_sub_iter': 100,\n",
    "    'RelTolX': 1e-6, \n",
    "    'RelTolFeas': 1e-6,\n",
    "    'rho': 0.5,\n",
    "    'beta':0.1,\n",
    "}\n",
    "\n",
    "# \n",
    "sgn2_params = {\n",
    "    'jac_batch': sgn2_jac_batch_size,\n",
    "    'func_batch': sgn2_func_batch_size,\n",
    "    'jac_snap_batch': sgn2_jac_snap_batch_size,\n",
    "    'func_snap_batch': sgn2_func_snap_batch_size,\n",
    "    'max_inner': sgn2_max_inner,\n",
    "    'max_epochs':max_num_epochs,\n",
    "}\n",
    "\n",
    "gn_params = {\n",
    "    'jac_batch': n_,\n",
    "    'func_batch': n_,\n",
    "    'max_epochs':max_num_epochs,\n",
    "}\n",
    "\n",
    "sgn_params = {\n",
    "    'jac_batch': sgn_jac_batch_size,\n",
    "    'func_batch': sgn_func_batch_size,\n",
    "    'max_epochs': max_num_epochs,\n",
    "}"
   ]
  },
  {
   "cell_type": "markdown",
   "metadata": {},
   "source": [
    "## Run Algorithms"
   ]
  },
  {
   "cell_type": "code",
   "execution_count": 8,
   "metadata": {},
   "outputs": [],
   "source": [
    "\n",
    "history = []\n",
    "legend_list = []\n",
    "log_dir = []\n",
    "\n",
    "# initialize log directory\n",
    "example_name = 'AssetAlloc'\n",
    "dataset = 'Synthetic_' + str(n_) + '_' + str(d_)"
   ]
  },
  {
   "cell_type": "markdown",
   "metadata": {},
   "source": [
    "### GN"
   ]
  },
  {
   "cell_type": "code",
   "execution_count": 9,
   "metadata": {},
   "outputs": [
    {
     "name": "stdout",
     "output_type": "stream",
     "text": [
      "\n",
      " Asset Allocation Example with GN algorithm\n",
      "\n",
      "==========================================================================================\n",
      "    Time     |  # Epochs  |   # Samples   |   Obj. Val.   |  ||G_M(x)||   | Rel. Sol. Ch.\n",
      "------------------------------------------------------------------------------------------\n",
      "  5.49e-01   |    0.0     |   0.000e+00   |  -8.083e-01   |   2.644e-04   |      inf     \n",
      "  9.92e-01   |    2.0     |   2.000e+05   |  -8.085e-01   |   2.641e-04   |   5.282e-04  \n",
      "  1.44e+00   |    4.0     |   4.000e+05   |  -8.086e-01   |   2.638e-04   |   5.275e-04  \n",
      "  1.88e+00   |    6.0     |   6.000e+05   |  -8.088e-01   |   2.635e-04   |   5.269e-04  \n",
      "  2.32e+00   |    8.0     |   8.000e+05   |  -8.089e-01   |   2.632e-04   |   5.263e-04  \n",
      "  2.75e+00   |    10.0    |   1.000e+06   |  -8.091e-01   |   2.629e-04   |   5.257e-04  \n",
      "  3.19e+00   |    12.0    |   1.200e+06   |  -8.092e-01   |   2.626e-04   |   5.251e-04  \n",
      "  3.63e+00   |    14.0    |   1.400e+06   |  -8.094e-01   |   2.623e-04   |   5.245e-04  \n",
      "  4.06e+00   |    16.0    |   1.600e+06   |  -8.096e-01   |   2.620e-04   |   5.239e-04  \n",
      "  4.49e+00   |    18.0    |   1.800e+06   |  -8.097e-01   |   2.616e-04   |   5.232e-04  \n",
      "  4.92e+00   |    20.0    |   2.000e+06   |  -8.099e-01   |   2.613e-04   |   5.226e-04  \n",
      "  5.35e+00   |    22.0    |   2.200e+06   |  -8.100e-01   |   2.610e-04   |   5.220e-04  \n",
      "  5.81e+00   |    24.0    |   2.400e+06   |  -8.102e-01   |   2.607e-04   |   5.214e-04  \n",
      "  6.27e+00   |    26.0    |   2.600e+06   |  -8.103e-01   |   2.604e-04   |   5.208e-04  \n",
      "  6.77e+00   |    28.0    |   2.800e+06   |  -8.105e-01   |   2.601e-04   |   5.202e-04  \n",
      "  7.23e+00   |    30.0    |   3.000e+06   |  -8.106e-01   |   2.597e-04   |   5.195e-04  \n",
      "  7.68e+00   |    32.0    |   3.200e+06   |  -8.108e-01   |   2.594e-04   |   5.188e-04  \n",
      "  8.12e+00   |    34.0    |   3.400e+06   |  -8.109e-01   |   2.591e-04   |   5.182e-04  \n",
      "  8.55e+00   |    36.0    |   3.600e+06   |  -8.111e-01   |   2.588e-04   |   5.175e-04  \n",
      "  8.99e+00   |    38.0    |   3.800e+06   |  -8.112e-01   |   2.584e-04   |   5.169e-04  \n",
      "  9.44e+00   |    40.0    |   4.000e+06   |  -8.114e-01   |   2.581e-04   |   5.162e-04  \n",
      "  9.91e+00   |    42.0    |   4.200e+06   |  -8.115e-01   |   2.577e-04   |   5.155e-04  \n",
      "  1.05e+01   |    44.0    |   4.400e+06   |  -8.117e-01   |   2.574e-04   |   5.148e-04  \n",
      "  1.09e+01   |    46.0    |   4.600e+06   |  -8.118e-01   |   2.570e-04   |   5.141e-04  \n",
      "  1.14e+01   |    48.0    |   4.800e+06   |  -8.120e-01   |   2.567e-04   |   5.134e-04  \n",
      "  1.18e+01   |    50.0    |   5.000e+06   |  -8.121e-01   |   2.564e-04   |   5.127e-04  \n",
      "  1.23e+01   |    52.0    |   5.200e+06   |  -8.123e-01   |   2.560e-04   |   5.121e-04  \n",
      "  1.28e+01   |    54.0    |   5.400e+06   |  -8.124e-01   |   2.557e-04   |   5.114e-04  \n",
      "  1.33e+01   |    56.0    |   5.600e+06   |  -8.126e-01   |   2.554e-04   |   5.108e-04  \n",
      "  1.37e+01   |    58.0    |   5.800e+06   |  -8.127e-01   |   2.551e-04   |   5.101e-04  \n",
      "  1.42e+01   |    60.0    |   6.000e+06   |  -8.129e-01   |   2.548e-04   |   5.095e-04  \n",
      "  1.46e+01   |    62.0    |   6.200e+06   |  -8.130e-01   |   2.544e-04   |   5.089e-04  \n",
      "  1.51e+01   |    64.0    |   6.400e+06   |  -8.132e-01   |   2.541e-04   |   5.083e-04  \n",
      "  1.55e+01   |    66.0    |   6.600e+06   |  -8.133e-01   |   2.538e-04   |   5.076e-04  \n",
      "  1.59e+01   |    68.0    |   6.800e+06   |  -8.135e-01   |   2.535e-04   |   5.070e-04  \n",
      "  1.64e+01   |    70.0    |   7.000e+06   |  -8.136e-01   |   2.532e-04   |   5.065e-04  \n",
      "  1.68e+01   |    72.0    |   7.200e+06   |  -8.138e-01   |   2.530e-04   |   5.059e-04  \n",
      "  1.73e+01   |    74.0    |   7.400e+06   |  -8.139e-01   |   2.527e-04   |   5.054e-04  \n",
      "  1.77e+01   |    76.0    |   7.600e+06   |  -8.141e-01   |   2.524e-04   |   5.048e-04  \n",
      "  1.82e+01   |    78.0    |   7.800e+06   |  -8.142e-01   |   2.521e-04   |   5.043e-04  \n",
      "  1.87e+01   |    80.0    |   8.000e+06   |  -8.143e-01   |   2.519e-04   |   5.037e-04  \n",
      "  1.92e+01   |    82.0    |   8.200e+06   |  -8.145e-01   |   2.516e-04   |   5.032e-04  \n",
      "  1.97e+01   |    84.0    |   8.400e+06   |  -8.146e-01   |   2.514e-04   |   5.027e-04  \n",
      "  2.02e+01   |    86.0    |   8.600e+06   |  -8.148e-01   |   2.511e-04   |   5.021e-04  \n",
      "  2.06e+01   |    88.0    |   8.800e+06   |  -8.149e-01   |   2.507e-04   |   5.014e-04  \n",
      "  2.11e+01   |    90.0    |   9.000e+06   |  -8.151e-01   |   2.504e-04   |   5.007e-04  \n",
      "  2.15e+01   |    92.0    |   9.200e+06   |  -8.152e-01   |   2.501e-04   |   5.001e-04  \n",
      "  2.19e+01   |    94.0    |   9.400e+06   |  -8.154e-01   |   2.498e-04   |   4.995e-04  \n",
      "  2.24e+01   |    96.0    |   9.600e+06   |  -8.155e-01   |   2.495e-04   |   4.989e-04  \n",
      "  2.29e+01   |    98.0    |   9.800e+06   |  -8.156e-01   |   2.492e-04   |   4.984e-04  \n",
      "  2.34e+01   |   100.0    |   1.000e+07   |  -8.158e-01   |   2.489e-04   |   4.977e-04  \n",
      "==========================================================================================\n"
     ]
    }
   ],
   "source": [
    "# GN\n",
    "hist = asset_gn(x0, in_data, sub_prob_params_gn, gn_params)\n",
    "log_dir = os.path.join('log_file',example_name,dataset,'GN', \"gn_rho_\" + str(sub_prob_params_gn['rho']) + \"_M_\" +str(sub_prob_params_gn['M_const'])\n",
    "                + \"_ne_{:d}\".format(max_num_epochs))\n",
    "if is_log:\n",
    "    print('Saved to',log_dir)\n",
    "    save_history(log_dir, hist)\n",
    "history.append(hist)\n",
    "legend_list.append('GN')"
   ]
  },
  {
   "cell_type": "markdown",
   "metadata": {},
   "source": [
    "### SGN"
   ]
  },
  {
   "cell_type": "code",
   "execution_count": 10,
   "metadata": {},
   "outputs": [
    {
     "name": "stdout",
     "output_type": "stream",
     "text": [
      "\n",
      " Asset Allocation Example with SGN algorithm\n",
      "\n",
      "==========================================================================================\n",
      "    Time     |  # Epochs  |   # Samples   |   Obj. Val.   |  ||G_M(x)||   | Rel. Sol. Ch.\n",
      "------------------------------------------------------------------------------------------\n",
      "  4.88e-01   |    0.0     |   0.000e+00   |  -8.083e-01   |   7.316e-05   |      inf     \n",
      "  5.58e+00   |    2.0     |   2.012e+05   |  -8.523e-01   |   4.502e-05   |   3.221e-02  \n",
      "  1.05e+01   |    4.0     |   4.024e+05   |  -8.537e-01   |   4.599e-05   |   2.140e-02  \n",
      "  1.57e+01   |    6.0     |   6.036e+05   |  -8.517e-01   |   4.661e-05   |   3.693e-02  \n",
      "  2.11e+01   |    8.0     |   8.049e+05   |  -8.548e-01   |   4.147e-05   |   3.553e-02  \n",
      "  2.55e+01   |    10.1    |   1.006e+06   |  -8.564e-01   |   3.191e-05   |   3.265e-02  \n",
      "  2.99e+01   |    12.1    |   1.207e+06   |  -8.529e-01   |   4.826e-05   |   3.176e-02  \n",
      "  3.46e+01   |    14.1    |   1.409e+06   |  -8.539e-01   |   4.014e-05   |   4.328e-02  \n",
      "  4.03e+01   |    16.1    |   1.610e+06   |  -8.554e-01   |   4.031e-05   |   3.536e-02  \n",
      "  4.47e+01   |    18.1    |   1.811e+06   |  -8.547e-01   |   4.093e-05   |   3.625e-02  \n",
      "  4.89e+01   |    20.1    |   2.012e+06   |  -8.544e-01   |   4.541e-05   |   3.046e-02  \n",
      "  5.30e+01   |    22.1    |   2.213e+06   |  -8.525e-01   |   5.142e-05   |   4.280e-02  \n",
      "  5.75e+01   |    24.1    |   2.415e+06   |  -8.526e-01   |   5.351e-05   |   3.656e-02  \n",
      "  6.17e+01   |    26.2    |   2.616e+06   |  -8.528e-01   |   4.642e-05   |   3.314e-02  \n",
      "  6.67e+01   |    28.2    |   2.817e+06   |  -8.530e-01   |   4.330e-05   |   3.297e-02  \n",
      "  7.12e+01   |    30.2    |   3.018e+06   |  -8.545e-01   |   4.008e-05   |   3.146e-02  \n",
      "  7.62e+01   |    32.2    |   3.219e+06   |  -8.527e-01   |   4.414e-05   |   4.084e-02  \n",
      "  8.06e+01   |    34.2    |   3.421e+06   |  -8.531e-01   |   4.615e-05   |   2.918e-02  \n",
      "  8.52e+01   |    36.2    |   3.622e+06   |  -8.563e-01   |   3.835e-05   |   2.660e-02  \n",
      "  8.98e+01   |    38.2    |   3.823e+06   |  -8.541e-01   |   4.050e-05   |   3.189e-02  \n",
      "  9.45e+01   |    40.2    |   4.024e+06   |  -8.551e-01   |   4.195e-05   |   3.130e-02  \n",
      "  9.89e+01   |    42.3    |   4.226e+06   |  -8.536e-01   |   4.337e-05   |   3.832e-02  \n",
      "  1.03e+02   |    44.3    |   4.427e+06   |  -8.549e-01   |   4.484e-05   |   3.313e-02  \n",
      "  1.07e+02   |    46.3    |   4.628e+06   |  -8.508e-01   |   4.804e-05   |   4.408e-02  \n",
      "  1.12e+02   |    48.3    |   4.829e+06   |  -8.517e-01   |   4.415e-05   |   3.922e-02  \n",
      "  1.17e+02   |    50.3    |   5.030e+06   |  -8.542e-01   |   4.104e-05   |   3.308e-02  \n",
      "  1.23e+02   |    52.3    |   5.232e+06   |  -8.551e-01   |   3.969e-05   |   3.718e-02  \n",
      "  1.28e+02   |    54.3    |   5.433e+06   |  -8.536e-01   |   4.355e-05   |   4.067e-02  \n",
      "  1.32e+02   |    56.3    |   5.634e+06   |  -8.537e-01   |   3.783e-05   |   3.362e-02  \n",
      "  1.38e+02   |    58.4    |   5.835e+06   |  -8.530e-01   |   4.783e-05   |   3.046e-02  \n",
      "  1.43e+02   |    60.4    |   6.036e+06   |  -8.526e-01   |   5.338e-05   |   3.774e-02  \n",
      "  1.49e+02   |    62.4    |   6.238e+06   |  -8.543e-01   |   3.901e-05   |   3.422e-02  \n",
      "  1.55e+02   |    64.4    |   6.439e+06   |  -8.531e-01   |   4.755e-05   |   2.735e-02  \n",
      "  1.61e+02   |    66.4    |   6.640e+06   |  -8.552e-01   |   3.523e-05   |   3.184e-02  \n",
      "  1.65e+02   |    68.4    |   6.841e+06   |  -8.540e-01   |   4.254e-05   |   3.698e-02  \n",
      "  1.70e+02   |    70.4    |   7.043e+06   |  -8.528e-01   |   4.332e-05   |   3.641e-02  \n",
      "  1.76e+02   |    72.4    |   7.244e+06   |  -8.524e-01   |   5.025e-05   |   2.950e-02  \n",
      "  1.82e+02   |    74.4    |   7.445e+06   |  -8.528e-01   |   4.250e-05   |   3.649e-02  \n",
      "  1.87e+02   |    76.5    |   7.646e+06   |  -8.551e-01   |   4.339e-05   |   2.445e-02  \n",
      "  1.92e+02   |    78.5    |   7.847e+06   |  -8.562e-01   |   3.774e-05   |   3.593e-02  \n",
      "  1.97e+02   |    80.5    |   8.049e+06   |  -8.549e-01   |   4.258e-05   |   3.244e-02  \n",
      "  2.02e+02   |    82.5    |   8.250e+06   |  -8.544e-01   |   4.003e-05   |   3.575e-02  \n",
      "  2.07e+02   |    84.5    |   8.451e+06   |  -8.534e-01   |   4.709e-05   |   3.963e-02  \n",
      "  2.12e+02   |    86.5    |   8.652e+06   |  -8.532e-01   |   4.410e-05   |   3.722e-02  \n",
      "  2.17e+02   |    88.5    |   8.854e+06   |  -8.551e-01   |   4.902e-05   |   3.971e-02  \n",
      "  2.23e+02   |    90.5    |   9.055e+06   |  -8.558e-01   |   4.198e-05   |   3.166e-02  \n",
      "  2.28e+02   |    92.6    |   9.256e+06   |  -8.530e-01   |   4.336e-05   |   3.886e-02  \n",
      "  2.34e+02   |    94.6    |   9.457e+06   |  -8.550e-01   |   3.972e-05   |   3.220e-02  \n",
      "  2.39e+02   |    96.6    |   9.658e+06   |  -8.560e-01   |   3.592e-05   |   3.303e-02  \n",
      "  2.44e+02   |    98.6    |   9.860e+06   |  -8.530e-01   |   4.411e-05   |   3.673e-02  \n",
      "  2.48e+02   |   100.0    |   1.000e+07   |  -8.531e-01   |   4.585e-05   |   9.170e-05  \n",
      "==========================================================================================\n"
     ]
    }
   ],
   "source": [
    "## SGN\n",
    "hist = asset_sgn(x0, in_data, sub_prob_params_sgn, sgn_params)\n",
    "log_dir = os.path.join('log_file',example_name,dataset,'SGN', \"sgn_rho_\" + str(sub_prob_params_sgn['rho']) + \"_M_\" +str(sub_prob_params_sgn['M_const'])\n",
    "                + \"_b1_\" + str(sgn_params['jac_batch']) + \"_b2_\" + str(sgn_params['func_batch'])\n",
    "                + \"_ne_{:d}\".format(max_num_epochs))\n",
    "if is_log:\n",
    "    print('Saved to',log_dir)\n",
    "    save_history(log_dir, hist)\n",
    "history.append(hist)\n",
    "legend_list.append('SGN')"
   ]
  },
  {
   "cell_type": "markdown",
   "metadata": {},
   "source": [
    "### SGN2"
   ]
  },
  {
   "cell_type": "code",
   "execution_count": 11,
   "metadata": {},
   "outputs": [
    {
     "name": "stdout",
     "output_type": "stream",
     "text": [
      "\n",
      " Asset Allocation Example with SGN2 algorithm\n",
      "\n",
      "==========================================================================================\n",
      "    Time     |  # Epochs  |   # Samples   |   Obj. Val.   |  ||G_M(x)||   | Rel. Sol. Ch.\n",
      "------------------------------------------------------------------------------------------\n",
      "  4.58e-01   |    0.0     |   0.000e+00   |  -8.083e-01   |   7.316e-05   |      inf     \n",
      "  8.88e-01   |    2.0     |   2.000e+05   |  -8.083e-01   |   7.313e-05   |   1.463e-04  \n",
      "  4.81e+00   |    4.0     |   4.012e+05   |  -8.139e-01   |   6.953e-05   |   1.428e-04  \n",
      "  8.95e+00   |    6.0     |   6.024e+05   |  -8.189e-01   |   6.282e-05   |   1.286e-04  \n",
      "  1.30e+01   |    8.0     |   8.036e+05   |  -8.231e-01   |   5.876e-05   |   1.206e-04  \n",
      "  1.70e+01   |    10.0    |   1.005e+06   |  -8.269e-01   |   5.639e-05   |   1.155e-04  \n",
      "  2.11e+01   |    12.1    |   1.206e+06   |  -8.305e-01   |   5.419e-05   |   1.110e-04  \n",
      "  2.49e+01   |    14.1    |   1.407e+06   |  -8.338e-01   |   5.215e-05   |   1.066e-04  \n",
      "  2.89e+01   |    16.1    |   1.609e+06   |  -8.365e-01   |   4.320e-05   |   8.807e-05  \n",
      "  3.26e+01   |    18.1    |   1.810e+06   |  -8.387e-01   |   4.183e-05   |   8.544e-05  \n",
      "  3.64e+01   |    20.1    |   2.011e+06   |  -8.406e-01   |   3.821e-05   |   7.779e-05  \n",
      "  4.02e+01   |    22.1    |   2.212e+06   |  -8.423e-01   |   3.665e-05   |   7.487e-05  \n",
      "  4.38e+01   |    24.1    |   2.413e+06   |  -8.438e-01   |   3.572e-05   |   7.266e-05  \n",
      "  4.73e+01   |    26.1    |   2.615e+06   |  -8.453e-01   |   3.480e-05   |   7.088e-05  \n",
      "  5.09e+01   |    28.2    |   2.816e+06   |  -8.468e-01   |   3.389e-05   |   6.908e-05  \n",
      "  5.46e+01   |    30.2    |   3.017e+06   |  -8.481e-01   |   3.294e-05   |   6.716e-05  \n",
      "  5.82e+01   |    32.2    |   3.218e+06   |  -8.494e-01   |   3.155e-05   |   6.433e-05  \n",
      "  5.99e+01   |    34.7    |   3.472e+06   |  -8.498e-01   |   3.133e-05   |   6.266e-05  \n",
      "  6.33e+01   |    36.7    |   3.673e+06   |  -8.510e-01   |   3.064e-05   |   6.226e-05  \n",
      "  6.68e+01   |    38.7    |   3.874e+06   |  -8.518e-01   |   2.584e-05   |   5.234e-05  \n",
      "  7.07e+01   |    40.8    |   4.076e+06   |  -8.526e-01   |   2.535e-05   |   5.147e-05  \n",
      "  7.45e+01   |    42.8    |   4.277e+06   |  -8.534e-01   |   2.490e-05   |   5.048e-05  \n",
      "  7.81e+01   |    44.8    |   4.478e+06   |  -8.540e-01   |   2.292e-05   |   4.632e-05  \n",
      "  8.23e+01   |    46.8    |   4.679e+06   |  -8.547e-01   |   2.249e-05   |   4.561e-05  \n",
      "  8.63e+01   |    48.8    |   4.881e+06   |  -8.553e-01   |   2.205e-05   |   4.475e-05  \n",
      "  8.99e+01   |    50.8    |   5.082e+06   |  -8.559e-01   |   2.160e-05   |   4.389e-05  \n",
      "  9.32e+01   |    52.8    |   5.283e+06   |  -8.564e-01   |   1.898e-05   |   3.857e-05  \n",
      "  9.63e+01   |    54.8    |   5.484e+06   |  -8.568e-01   |   1.870e-05   |   3.787e-05  \n",
      "  9.98e+01   |    56.9    |   5.685e+06   |  -8.571e-01   |   1.448e-05   |   2.928e-05  \n",
      "  1.03e+02   |    58.9    |   5.887e+06   |  -8.574e-01   |   1.425e-05   |   2.891e-05  \n",
      "  1.07e+02   |    60.9    |   6.088e+06   |  -8.576e-01   |   1.396e-05   |   2.835e-05  \n",
      "  1.10e+02   |    62.9    |   6.289e+06   |  -8.578e-01   |   1.375e-05   |   2.789e-05  \n",
      "  1.13e+02   |    64.9    |   6.490e+06   |  -8.581e-01   |   1.341e-05   |   2.729e-05  \n",
      "  1.15e+02   |    67.4    |   6.744e+06   |  -8.581e-01   |   1.335e-05   |   2.670e-05  \n",
      "  1.18e+02   |    69.5    |   6.945e+06   |  -8.583e-01   |   1.316e-05   |   2.667e-05  \n",
      "  1.21e+02   |    71.5    |   7.146e+06   |  -8.585e-01   |   1.299e-05   |   2.630e-05  \n",
      "  1.24e+02   |    73.5    |   7.348e+06   |  -8.587e-01   |   1.147e-05   |   2.329e-05  \n",
      "  1.28e+02   |    75.5    |   7.549e+06   |  -8.588e-01   |   1.127e-05   |   2.281e-05  \n",
      "  1.31e+02   |    77.5    |   7.750e+06   |  -8.589e-01   |   1.111e-05   |   2.252e-05  \n",
      "  1.35e+02   |    79.5    |   7.951e+06   |  -8.591e-01   |   1.098e-05   |   2.221e-05  \n",
      "  1.38e+02   |    81.5    |   8.153e+06   |  -8.592e-01   |   1.072e-05   |   2.166e-05  \n",
      "  1.41e+02   |    83.5    |   8.354e+06   |  -8.593e-01   |   1.059e-05   |   2.143e-05  \n",
      "  1.44e+02   |    85.5    |   8.555e+06   |  -8.594e-01   |   1.014e-05   |   2.055e-05  \n",
      "  1.47e+02   |    87.6    |   8.756e+06   |  -8.595e-01   |   9.985e-06   |   2.027e-05  \n",
      "  1.50e+02   |    89.6    |   8.957e+06   |  -8.597e-01   |   9.832e-06   |   1.996e-05  \n",
      "  1.53e+02   |    91.6    |   9.159e+06   |  -8.598e-01   |   9.694e-06   |   1.965e-05  \n",
      "  1.56e+02   |    93.6    |   9.360e+06   |  -8.599e-01   |   9.415e-06   |   1.914e-05  \n",
      "  1.59e+02   |    95.6    |   9.561e+06   |  -8.599e-01   |   9.298e-06   |   1.882e-05  \n",
      "  1.63e+02   |    97.6    |   9.762e+06   |  -8.600e-01   |   9.147e-06   |   1.858e-05  \n",
      "  1.64e+02   |   100.2    |   1.002e+07   |  -8.601e-01   |   9.107e-06   |   1.822e-05  \n",
      "  1.65e+02   |   100.2    |   1.002e+07   |  -8.601e-01   |   9.106e-06   |   1.821e-05  \n",
      "==========================================================================================\n"
     ]
    }
   ],
   "source": [
    "## SGN2\n",
    "hist = asset_sgn2(x0, in_data, sub_prob_params_sgn2, sgn2_params)\n",
    "log_dir = os.path.join('log_file',example_name,dataset,'SGN2', \"sgn2_rho_\" + str(sub_prob_params_sgn2['rho']) + \"_M_\" +str(sub_prob_params_sgn2['M_const'])\n",
    "                    + \"_b1_\" + str(sgn2_params['jac_batch']) + \"_b2_\" + str(sgn2_params['func_batch']) \n",
    "                    + \"_inner_\" + str(sgn2_params['max_inner']) + \"_ne_{:d}\".format(max_num_epochs))\n",
    "if is_log:\n",
    "    print('Saved to',log_dir)\n",
    "    save_history(log_dir, hist)\n",
    "history.append(hist)\n",
    "legend_list.append('SGN2')"
   ]
  },
  {
   "cell_type": "markdown",
   "metadata": {},
   "source": [
    "## Plot results"
   ]
  },
  {
   "cell_type": "code",
   "execution_count": 15,
   "metadata": {},
   "outputs": [
    {
     "data": {
      "image/png": "[encoded data removed]",
      "text/plain": [
       "<Figure size 432x288 with 1 Axes>"
      ]
     },
     "metadata": {
      "needs_background": "light"
     },
     "output_type": "display_data"
    }
   ],
   "source": [
    "color = ['r','b','g']\n",
    "color.extend(['C' + str(i) for i in range(10)])\n",
    "\n",
    "minVal = np.inf\n",
    "for h in history:\n",
    "    minV = np.min(h['Obj'])\n",
    "    if minV < minVal:\n",
    "        minVal = minV\n",
    "\n",
    "fig1 = plt.figure()\n",
    "# markfreq = 2\n",
    "p_epsilon = 5e-3\n",
    "color_cnt = 0\n",
    "for h in history:\n",
    "    plt.semilogy(   np.array(h['Epochs']) ,\n",
    "        np.array((h['Obj'] - minVal + p_epsilon)/(np.maximum(1, minVal))) ,\n",
    "        linestyle = '--',\n",
    "        color = color[color_cnt],\n",
    "                )\n",
    "    color_cnt += 1\n",
    "\n",
    "fig1.suptitle( 'Composition Example ' + str() )\n",
    "plt.xlabel( \"Number of Epochs\" )\n",
    "plt.ylabel( \"Relative Objective\" )\n",
    "plt.legend(legend_list)\n",
    "plt.xlim(-1, max_num_epochs)\n",
    "plt.show()\n"
   ]
  },
  {
   "cell_type": "code",
   "execution_count": null,
   "metadata": {},
   "outputs": [],
   "source": []
  }
 ],
 "metadata": {
  "kernelspec": {
   "display_name": "Python 3",
   "language": "python",
   "name": "python3"
  },
  "language_info": {
   "codemirror_mode": {
    "name": "ipython",
    "version": 3
   },
   "file_extension": ".py",
   "mimetype": "text/x-python",
   "name": "python",
   "nbconvert_exporter": "python",
   "pygments_lexer": "ipython3",
   "version": "3.6.10"
  }
 },
 "nbformat": 4,
 "nbformat_minor": 4
}
